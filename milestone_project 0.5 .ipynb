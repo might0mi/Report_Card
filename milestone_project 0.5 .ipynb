{
 "cells": [
  {
   "cell_type": "code",
   "execution_count": 436,
   "metadata": {},
   "outputs": [],
   "source": [
    "import pandas as pd  # all imports should be here\n",
    "import numpy as np\n",
    "import matplotlib.pyplot as plt"
   ]
  },
  {
   "cell_type": "code",
   "execution_count": 437,
   "metadata": {},
   "outputs": [],
   "source": [
    "data1 = pd.read_csv('https://docs.google.com/spreadsheets/d/1HYjfEe3aCbufbqIXKs0Xz-gfoQNztGhCN1ivx0gZXnc/export?format=csv&id=1HYjfEe3aCbufbqIXKs0Xz-gfoQNztGhCN1ivx0gZXnc&gid=0')\n",
    "data2 = pd.read_csv('https://docs.google.com/spreadsheets/d/1HYjfEe3aCbufbqIXKs0Xz-gfoQNztGhCN1ivx0gZXnc/export?format=csv&id=1HYjfEe3aCbufbqIXKs0Xz-gfoQNztGhCN1ivx0gZXnc&gid=2076733987')\n",
    "\n",
    "# reading data from google doc spreadsheet \n",
    "# link for july datasheet below \n",
    "# https://docs.google.com/spreadsheets/d/1HYjfEe3aCbufbqIXKs0Xz-gfoQNztGhCN1ivx0gZXnc/export?format=csv&id=1HYjfEe3aCbufbqIXKs0Xz-gfoQNztGhCN1ivx0gZXnc&gid=0\n",
    "# link for august datasheet below\n",
    "# https://docs.google.com/spreadsheets/d/1HYjfEe3aCbufbqIXKs0Xz-gfoQNztGhCN1ivx0gZXnc/export?format=csv&id=1HYjfEe3aCbufbqIXKs0Xz-gfoQNztGhCN1ivx0gZXnc&gid=2076733987\n",
    "\n",
    "data = data2\n",
    "#data = pd.concat([data1, data2])"
   ]
  },
  {
   "cell_type": "code",
   "execution_count": 438,
   "metadata": {},
   "outputs": [],
   "source": [
    "student_name=\"Chandrima\"\n"
   ]
  },
  {
   "cell_type": "code",
   "execution_count": 439,
   "metadata": {},
   "outputs": [
    {
     "data": {
      "text/plain": [
       "25"
      ]
     },
     "execution_count": 439,
     "metadata": {},
     "output_type": "execute_result"
    }
   ],
   "source": [
    "student_names=data[\"Student\"].unique()\n",
    "student_names.size"
   ]
  },
  {
   "cell_type": "code",
   "execution_count": 440,
   "metadata": {},
   "outputs": [
    {
     "data": {
      "text/html": [
       "<div>\n",
       "<style scoped>\n",
       "    .dataframe tbody tr th:only-of-type {\n",
       "        vertical-align: middle;\n",
       "    }\n",
       "\n",
       "    .dataframe tbody tr th {\n",
       "        vertical-align: top;\n",
       "    }\n",
       "\n",
       "    .dataframe thead th {\n",
       "        text-align: right;\n",
       "    }\n",
       "</style>\n",
       "<table border=\"1\" class=\"dataframe\">\n",
       "  <thead>\n",
       "    <tr style=\"text-align: right;\">\n",
       "      <th></th>\n",
       "      <th>id</th>\n",
       "      <th>Task</th>\n",
       "      <th>Date</th>\n",
       "      <th>Module</th>\n",
       "      <th>Type</th>\n",
       "      <th>Student</th>\n",
       "      <th>Late Submission</th>\n",
       "      <th>Points</th>\n",
       "      <th>Total</th>\n",
       "      <th>Task Winner</th>\n",
       "    </tr>\n",
       "  </thead>\n",
       "  <tbody>\n",
       "    <tr>\n",
       "      <th>0</th>\n",
       "      <td>0</td>\n",
       "      <td>AjKyaUkhada</td>\n",
       "      <td>2019-08-01 13:26:57</td>\n",
       "      <td>Ritual</td>\n",
       "      <td>Consistency</td>\n",
       "      <td>Sonali</td>\n",
       "      <td>0</td>\n",
       "      <td>2.0</td>\n",
       "      <td>2</td>\n",
       "      <td>0</td>\n",
       "    </tr>\n",
       "    <tr>\n",
       "      <th>1</th>\n",
       "      <td>0</td>\n",
       "      <td>AjKyaUkhada</td>\n",
       "      <td>2019-08-01 14:40:42</td>\n",
       "      <td>Ritual</td>\n",
       "      <td>Consistency</td>\n",
       "      <td>Chandrima</td>\n",
       "      <td>0</td>\n",
       "      <td>2.0</td>\n",
       "      <td>2</td>\n",
       "      <td>0</td>\n",
       "    </tr>\n",
       "    <tr>\n",
       "      <th>2</th>\n",
       "      <td>0</td>\n",
       "      <td>AjKyaUkhada</td>\n",
       "      <td>2019-08-01 14:44:34</td>\n",
       "      <td>Ritual</td>\n",
       "      <td>Consistency</td>\n",
       "      <td>Purbita</td>\n",
       "      <td>0</td>\n",
       "      <td>2.0</td>\n",
       "      <td>2</td>\n",
       "      <td>0</td>\n",
       "    </tr>\n",
       "    <tr>\n",
       "      <th>3</th>\n",
       "      <td>0</td>\n",
       "      <td>AjKyaUkhada</td>\n",
       "      <td>2019-08-01 14:47:05</td>\n",
       "      <td>Ritual</td>\n",
       "      <td>Consistency</td>\n",
       "      <td>Kunal</td>\n",
       "      <td>0</td>\n",
       "      <td>2.0</td>\n",
       "      <td>2</td>\n",
       "      <td>0</td>\n",
       "    </tr>\n",
       "    <tr>\n",
       "      <th>4</th>\n",
       "      <td>0</td>\n",
       "      <td>AjKyaUkhada</td>\n",
       "      <td>2019-08-01 14:48:11</td>\n",
       "      <td>Ritual</td>\n",
       "      <td>Consistency</td>\n",
       "      <td>Kaushal</td>\n",
       "      <td>0</td>\n",
       "      <td>2.0</td>\n",
       "      <td>2</td>\n",
       "      <td>0</td>\n",
       "    </tr>\n",
       "    <tr>\n",
       "      <th>5</th>\n",
       "      <td>0</td>\n",
       "      <td>AjKyaUkhada</td>\n",
       "      <td>2019-08-01 15:05:13</td>\n",
       "      <td>Ritual</td>\n",
       "      <td>Consistency</td>\n",
       "      <td>Durga</td>\n",
       "      <td>0</td>\n",
       "      <td>2.0</td>\n",
       "      <td>2</td>\n",
       "      <td>0</td>\n",
       "    </tr>\n",
       "    <tr>\n",
       "      <th>6</th>\n",
       "      <td>0</td>\n",
       "      <td>AjKyaUkhada</td>\n",
       "      <td>2019-08-01 15:55:48</td>\n",
       "      <td>Ritual</td>\n",
       "      <td>Consistency</td>\n",
       "      <td>Ujjainee</td>\n",
       "      <td>0</td>\n",
       "      <td>2.0</td>\n",
       "      <td>2</td>\n",
       "      <td>0</td>\n",
       "    </tr>\n",
       "    <tr>\n",
       "      <th>7</th>\n",
       "      <td>0</td>\n",
       "      <td>AjKyaUkhada</td>\n",
       "      <td>2019-08-01 16:08:05</td>\n",
       "      <td>Ritual</td>\n",
       "      <td>Consistency</td>\n",
       "      <td>Dipam</td>\n",
       "      <td>0</td>\n",
       "      <td>2.0</td>\n",
       "      <td>2</td>\n",
       "      <td>0</td>\n",
       "    </tr>\n",
       "    <tr>\n",
       "      <th>8</th>\n",
       "      <td>0</td>\n",
       "      <td>AjKyaUkhada</td>\n",
       "      <td>2019-08-01 16:16:30</td>\n",
       "      <td>Ritual</td>\n",
       "      <td>Consistency</td>\n",
       "      <td>Siddhishikha</td>\n",
       "      <td>0</td>\n",
       "      <td>2.0</td>\n",
       "      <td>2</td>\n",
       "      <td>0</td>\n",
       "    </tr>\n",
       "    <tr>\n",
       "      <th>9</th>\n",
       "      <td>0</td>\n",
       "      <td>AjKyaUkhada</td>\n",
       "      <td>2019-08-01 16:17:01</td>\n",
       "      <td>Ritual</td>\n",
       "      <td>Consistency</td>\n",
       "      <td>Surabhi</td>\n",
       "      <td>0</td>\n",
       "      <td>2.0</td>\n",
       "      <td>2</td>\n",
       "      <td>0</td>\n",
       "    </tr>\n",
       "    <tr>\n",
       "      <th>10</th>\n",
       "      <td>0</td>\n",
       "      <td>AjKyaUkhada</td>\n",
       "      <td>2019-08-01 17:05:15</td>\n",
       "      <td>Ritual</td>\n",
       "      <td>Consistency</td>\n",
       "      <td>Swaastik</td>\n",
       "      <td>0</td>\n",
       "      <td>2.0</td>\n",
       "      <td>2</td>\n",
       "      <td>0</td>\n",
       "    </tr>\n",
       "    <tr>\n",
       "      <th>11</th>\n",
       "      <td>0</td>\n",
       "      <td>AjKyaUkhada</td>\n",
       "      <td>2019-08-01 17:29:07</td>\n",
       "      <td>Ritual</td>\n",
       "      <td>Consistency</td>\n",
       "      <td>Sharika</td>\n",
       "      <td>0</td>\n",
       "      <td>2.0</td>\n",
       "      <td>2</td>\n",
       "      <td>0</td>\n",
       "    </tr>\n",
       "    <tr>\n",
       "      <th>12</th>\n",
       "      <td>0</td>\n",
       "      <td>AjKyaUkhada</td>\n",
       "      <td>2019-08-01 18:01:53</td>\n",
       "      <td>Ritual</td>\n",
       "      <td>Consistency</td>\n",
       "      <td>Apurwa</td>\n",
       "      <td>0</td>\n",
       "      <td>2.0</td>\n",
       "      <td>2</td>\n",
       "      <td>0</td>\n",
       "    </tr>\n",
       "    <tr>\n",
       "      <th>13</th>\n",
       "      <td>0</td>\n",
       "      <td>AjKyaUkhada</td>\n",
       "      <td>2019-08-01 18:21:29</td>\n",
       "      <td>Ritual</td>\n",
       "      <td>Consistency</td>\n",
       "      <td>Shakib</td>\n",
       "      <td>0</td>\n",
       "      <td>2.0</td>\n",
       "      <td>2</td>\n",
       "      <td>0</td>\n",
       "    </tr>\n",
       "    <tr>\n",
       "      <th>14</th>\n",
       "      <td>0</td>\n",
       "      <td>AjKyaUkhada</td>\n",
       "      <td>2019-08-01 18:29:24</td>\n",
       "      <td>Ritual</td>\n",
       "      <td>Consistency</td>\n",
       "      <td>Vishal</td>\n",
       "      <td>0</td>\n",
       "      <td>2.0</td>\n",
       "      <td>2</td>\n",
       "      <td>0</td>\n",
       "    </tr>\n",
       "    <tr>\n",
       "      <th>15</th>\n",
       "      <td>0</td>\n",
       "      <td>AjKyaUkhada</td>\n",
       "      <td>2019-08-01 19:52:40</td>\n",
       "      <td>Ritual</td>\n",
       "      <td>Consistency</td>\n",
       "      <td>Wrick</td>\n",
       "      <td>0</td>\n",
       "      <td>2.0</td>\n",
       "      <td>2</td>\n",
       "      <td>0</td>\n",
       "    </tr>\n",
       "    <tr>\n",
       "      <th>16</th>\n",
       "      <td>5</td>\n",
       "      <td>Video Resume</td>\n",
       "      <td>8/1/2019</td>\n",
       "      <td>Profile Building</td>\n",
       "      <td>Creativity,Communication,Intent,Confidence</td>\n",
       "      <td>Chandrima</td>\n",
       "      <td>0</td>\n",
       "      <td>16.5</td>\n",
       "      <td>20</td>\n",
       "      <td>0</td>\n",
       "    </tr>\n",
       "    <tr>\n",
       "      <th>17</th>\n",
       "      <td>5</td>\n",
       "      <td>Video Resume</td>\n",
       "      <td>8/1/2019</td>\n",
       "      <td>Profile Building</td>\n",
       "      <td>Creativity,Communication,Intent,Confidence</td>\n",
       "      <td>Dipam</td>\n",
       "      <td>0</td>\n",
       "      <td>14.0</td>\n",
       "      <td>20</td>\n",
       "      <td>0</td>\n",
       "    </tr>\n",
       "    <tr>\n",
       "      <th>18</th>\n",
       "      <td>5</td>\n",
       "      <td>Video Resume</td>\n",
       "      <td>8/1/2019</td>\n",
       "      <td>Profile Building</td>\n",
       "      <td>Creativity,Communication,Intent,Confidence</td>\n",
       "      <td>Durga</td>\n",
       "      <td>0</td>\n",
       "      <td>16.5</td>\n",
       "      <td>20</td>\n",
       "      <td>0</td>\n",
       "    </tr>\n",
       "    <tr>\n",
       "      <th>19</th>\n",
       "      <td>5</td>\n",
       "      <td>Video Resume</td>\n",
       "      <td>8/1/2019</td>\n",
       "      <td>Profile Building</td>\n",
       "      <td>Creativity,Communication,Intent,Confidence</td>\n",
       "      <td>Kaushal</td>\n",
       "      <td>1</td>\n",
       "      <td>16.5</td>\n",
       "      <td>20</td>\n",
       "      <td>0</td>\n",
       "    </tr>\n",
       "    <tr>\n",
       "      <th>20</th>\n",
       "      <td>5</td>\n",
       "      <td>Video Resume</td>\n",
       "      <td>8/1/2019</td>\n",
       "      <td>Profile Building</td>\n",
       "      <td>Creativity,Communication,Intent,Confidence</td>\n",
       "      <td>Arya</td>\n",
       "      <td>1</td>\n",
       "      <td>18.5</td>\n",
       "      <td>20</td>\n",
       "      <td>0</td>\n",
       "    </tr>\n",
       "    <tr>\n",
       "      <th>21</th>\n",
       "      <td>5</td>\n",
       "      <td>Video Resume</td>\n",
       "      <td>8/1/2019</td>\n",
       "      <td>Profile Building</td>\n",
       "      <td>Creativity,Communication,Intent,Confidence</td>\n",
       "      <td>Kunal</td>\n",
       "      <td>0</td>\n",
       "      <td>20.0</td>\n",
       "      <td>20</td>\n",
       "      <td>0</td>\n",
       "    </tr>\n",
       "    <tr>\n",
       "      <th>22</th>\n",
       "      <td>5</td>\n",
       "      <td>Video Resume</td>\n",
       "      <td>8/1/2019</td>\n",
       "      <td>Profile Building</td>\n",
       "      <td>Creativity,Communication,Intent,Confidence</td>\n",
       "      <td>Purbita</td>\n",
       "      <td>0</td>\n",
       "      <td>18.0</td>\n",
       "      <td>20</td>\n",
       "      <td>0</td>\n",
       "    </tr>\n",
       "    <tr>\n",
       "      <th>23</th>\n",
       "      <td>5</td>\n",
       "      <td>Video Resume</td>\n",
       "      <td>8/1/2019</td>\n",
       "      <td>Profile Building</td>\n",
       "      <td>Creativity,Communication,Intent,Confidence</td>\n",
       "      <td>Roumyak</td>\n",
       "      <td>0</td>\n",
       "      <td>20.0</td>\n",
       "      <td>20</td>\n",
       "      <td>1</td>\n",
       "    </tr>\n",
       "    <tr>\n",
       "      <th>24</th>\n",
       "      <td>5</td>\n",
       "      <td>Video Resume</td>\n",
       "      <td>8/1/2019</td>\n",
       "      <td>Profile Building</td>\n",
       "      <td>Creativity,Communication,Intent,Confidence</td>\n",
       "      <td>Shakib</td>\n",
       "      <td>0</td>\n",
       "      <td>17.5</td>\n",
       "      <td>20</td>\n",
       "      <td>0</td>\n",
       "    </tr>\n",
       "    <tr>\n",
       "      <th>25</th>\n",
       "      <td>5</td>\n",
       "      <td>Video Resume</td>\n",
       "      <td>8/1/2019</td>\n",
       "      <td>Profile Building</td>\n",
       "      <td>Creativity,Communication,Intent,Confidence</td>\n",
       "      <td>Shantanu</td>\n",
       "      <td>0</td>\n",
       "      <td>20.0</td>\n",
       "      <td>20</td>\n",
       "      <td>1</td>\n",
       "    </tr>\n",
       "    <tr>\n",
       "      <th>26</th>\n",
       "      <td>5</td>\n",
       "      <td>Video Resume</td>\n",
       "      <td>8/1/2019</td>\n",
       "      <td>Profile Building</td>\n",
       "      <td>Creativity,Communication,Intent,Confidence</td>\n",
       "      <td>Sharika</td>\n",
       "      <td>1</td>\n",
       "      <td>20.0</td>\n",
       "      <td>20</td>\n",
       "      <td>0</td>\n",
       "    </tr>\n",
       "    <tr>\n",
       "      <th>27</th>\n",
       "      <td>5</td>\n",
       "      <td>Video Resume</td>\n",
       "      <td>8/1/2019</td>\n",
       "      <td>Profile Building</td>\n",
       "      <td>Creativity,Communication,Intent,Confidence</td>\n",
       "      <td>Sonali</td>\n",
       "      <td>1</td>\n",
       "      <td>16.5</td>\n",
       "      <td>20</td>\n",
       "      <td>0</td>\n",
       "    </tr>\n",
       "    <tr>\n",
       "      <th>28</th>\n",
       "      <td>5</td>\n",
       "      <td>Video Resume</td>\n",
       "      <td>8/1/2019</td>\n",
       "      <td>Profile Building</td>\n",
       "      <td>Creativity,Communication,Intent,Confidence</td>\n",
       "      <td>Surabhi</td>\n",
       "      <td>0</td>\n",
       "      <td>20.0</td>\n",
       "      <td>20</td>\n",
       "      <td>1</td>\n",
       "    </tr>\n",
       "    <tr>\n",
       "      <th>29</th>\n",
       "      <td>5</td>\n",
       "      <td>Video Resume</td>\n",
       "      <td>8/1/2019</td>\n",
       "      <td>Profile Building</td>\n",
       "      <td>Creativity,Communication,Intent,Confidence</td>\n",
       "      <td>Siddhishikha</td>\n",
       "      <td>0</td>\n",
       "      <td>16.0</td>\n",
       "      <td>20</td>\n",
       "      <td>0</td>\n",
       "    </tr>\n",
       "    <tr>\n",
       "      <th>...</th>\n",
       "      <td>...</td>\n",
       "      <td>...</td>\n",
       "      <td>...</td>\n",
       "      <td>...</td>\n",
       "      <td>...</td>\n",
       "      <td>...</td>\n",
       "      <td>...</td>\n",
       "      <td>...</td>\n",
       "      <td>...</td>\n",
       "      <td>...</td>\n",
       "    </tr>\n",
       "    <tr>\n",
       "      <th>548</th>\n",
       "      <td>0</td>\n",
       "      <td>AjKyaUkhada</td>\n",
       "      <td>2019-08-23 17:06:22</td>\n",
       "      <td>Ritual</td>\n",
       "      <td>Consistency</td>\n",
       "      <td>Chandrima</td>\n",
       "      <td>0</td>\n",
       "      <td>2.0</td>\n",
       "      <td>2</td>\n",
       "      <td>0</td>\n",
       "    </tr>\n",
       "    <tr>\n",
       "      <th>549</th>\n",
       "      <td>0</td>\n",
       "      <td>AjKyaUkhada</td>\n",
       "      <td>2019-08-23 17:18:56</td>\n",
       "      <td>Ritual</td>\n",
       "      <td>Consistency</td>\n",
       "      <td>Dipam</td>\n",
       "      <td>0</td>\n",
       "      <td>2.0</td>\n",
       "      <td>2</td>\n",
       "      <td>0</td>\n",
       "    </tr>\n",
       "    <tr>\n",
       "      <th>550</th>\n",
       "      <td>0</td>\n",
       "      <td>AjKyaUkhada</td>\n",
       "      <td>2019-08-23 17:25:50</td>\n",
       "      <td>Ritual</td>\n",
       "      <td>Consistency</td>\n",
       "      <td>Siddhishikha</td>\n",
       "      <td>0</td>\n",
       "      <td>2.0</td>\n",
       "      <td>2</td>\n",
       "      <td>0</td>\n",
       "    </tr>\n",
       "    <tr>\n",
       "      <th>551</th>\n",
       "      <td>0</td>\n",
       "      <td>AjKyaUkhada</td>\n",
       "      <td>2019-08-23 17:43:19</td>\n",
       "      <td>Ritual</td>\n",
       "      <td>Consistency</td>\n",
       "      <td>Surabhi</td>\n",
       "      <td>0</td>\n",
       "      <td>2.0</td>\n",
       "      <td>2</td>\n",
       "      <td>0</td>\n",
       "    </tr>\n",
       "    <tr>\n",
       "      <th>552</th>\n",
       "      <td>0</td>\n",
       "      <td>AjKyaUkhada</td>\n",
       "      <td>2019-08-23 18:05:16</td>\n",
       "      <td>Ritual</td>\n",
       "      <td>Consistency</td>\n",
       "      <td>Shakib</td>\n",
       "      <td>0</td>\n",
       "      <td>2.0</td>\n",
       "      <td>2</td>\n",
       "      <td>0</td>\n",
       "    </tr>\n",
       "    <tr>\n",
       "      <th>553</th>\n",
       "      <td>0</td>\n",
       "      <td>AjKyaUkhada</td>\n",
       "      <td>2019-08-23 18:14:20</td>\n",
       "      <td>Ritual</td>\n",
       "      <td>Consistency</td>\n",
       "      <td>Kaushal</td>\n",
       "      <td>0</td>\n",
       "      <td>2.0</td>\n",
       "      <td>2</td>\n",
       "      <td>0</td>\n",
       "    </tr>\n",
       "    <tr>\n",
       "      <th>554</th>\n",
       "      <td>0</td>\n",
       "      <td>AjKyaUkhada</td>\n",
       "      <td>2019-08-23 18:15:35</td>\n",
       "      <td>Ritual</td>\n",
       "      <td>Consistency</td>\n",
       "      <td>Sharika</td>\n",
       "      <td>0</td>\n",
       "      <td>2.0</td>\n",
       "      <td>2</td>\n",
       "      <td>0</td>\n",
       "    </tr>\n",
       "    <tr>\n",
       "      <th>555</th>\n",
       "      <td>0</td>\n",
       "      <td>AjKyaUkhada</td>\n",
       "      <td>2019-08-23 18:32:31</td>\n",
       "      <td>Ritual</td>\n",
       "      <td>Consistency</td>\n",
       "      <td>Apurwa</td>\n",
       "      <td>0</td>\n",
       "      <td>2.0</td>\n",
       "      <td>2</td>\n",
       "      <td>0</td>\n",
       "    </tr>\n",
       "    <tr>\n",
       "      <th>556</th>\n",
       "      <td>0</td>\n",
       "      <td>Knowledge Sharing</td>\n",
       "      <td>2019-08-23 19:58:02</td>\n",
       "      <td>Ritual</td>\n",
       "      <td>Consistency,Curiosity</td>\n",
       "      <td>Durga</td>\n",
       "      <td>0</td>\n",
       "      <td>2.0</td>\n",
       "      <td>2</td>\n",
       "      <td>0</td>\n",
       "    </tr>\n",
       "    <tr>\n",
       "      <th>557</th>\n",
       "      <td>0</td>\n",
       "      <td>AjKyaUkhada</td>\n",
       "      <td>2019-08-23 20:59:41</td>\n",
       "      <td>Ritual</td>\n",
       "      <td>Consistency</td>\n",
       "      <td>Vishal</td>\n",
       "      <td>0</td>\n",
       "      <td>2.0</td>\n",
       "      <td>2</td>\n",
       "      <td>0</td>\n",
       "    </tr>\n",
       "    <tr>\n",
       "      <th>558</th>\n",
       "      <td>0</td>\n",
       "      <td>AjKyaUkhada</td>\n",
       "      <td>2019-08-24 2:00:44</td>\n",
       "      <td>Ritual</td>\n",
       "      <td>Consistency</td>\n",
       "      <td>Swaastick</td>\n",
       "      <td>0</td>\n",
       "      <td>2.0</td>\n",
       "      <td>2</td>\n",
       "      <td>0</td>\n",
       "    </tr>\n",
       "    <tr>\n",
       "      <th>559</th>\n",
       "      <td>0</td>\n",
       "      <td>AjKyaUkhada</td>\n",
       "      <td>2019-08-24 4:48:30</td>\n",
       "      <td>Ritual</td>\n",
       "      <td>Consistency</td>\n",
       "      <td>Shantanu</td>\n",
       "      <td>0</td>\n",
       "      <td>2.0</td>\n",
       "      <td>2</td>\n",
       "      <td>0</td>\n",
       "    </tr>\n",
       "    <tr>\n",
       "      <th>560</th>\n",
       "      <td>0</td>\n",
       "      <td>AjKyaUkhada</td>\n",
       "      <td>2019-08-24 5:05:07</td>\n",
       "      <td>Ritual</td>\n",
       "      <td>Consistency</td>\n",
       "      <td>Prasoon</td>\n",
       "      <td>0</td>\n",
       "      <td>2.0</td>\n",
       "      <td>2</td>\n",
       "      <td>0</td>\n",
       "    </tr>\n",
       "    <tr>\n",
       "      <th>561</th>\n",
       "      <td>0</td>\n",
       "      <td>AjKyaUkhada</td>\n",
       "      <td>2019-08-24 11:55:47</td>\n",
       "      <td>Ritual</td>\n",
       "      <td>Consistency</td>\n",
       "      <td>Sonali</td>\n",
       "      <td>0</td>\n",
       "      <td>2.0</td>\n",
       "      <td>2</td>\n",
       "      <td>0</td>\n",
       "    </tr>\n",
       "    <tr>\n",
       "      <th>562</th>\n",
       "      <td>0</td>\n",
       "      <td>AjKyaUkhada</td>\n",
       "      <td>2019-08-24 16:22:11</td>\n",
       "      <td>Ritual</td>\n",
       "      <td>Consistency</td>\n",
       "      <td>Durga</td>\n",
       "      <td>0</td>\n",
       "      <td>2.0</td>\n",
       "      <td>2</td>\n",
       "      <td>0</td>\n",
       "    </tr>\n",
       "    <tr>\n",
       "      <th>563</th>\n",
       "      <td>0</td>\n",
       "      <td>AjKyaUkhada</td>\n",
       "      <td>2019-08-24 16:28:42</td>\n",
       "      <td>Ritual</td>\n",
       "      <td>Consistency</td>\n",
       "      <td>Siddhishikha</td>\n",
       "      <td>0</td>\n",
       "      <td>2.0</td>\n",
       "      <td>2</td>\n",
       "      <td>0</td>\n",
       "    </tr>\n",
       "    <tr>\n",
       "      <th>564</th>\n",
       "      <td>0</td>\n",
       "      <td>AjKyaUkhada</td>\n",
       "      <td>2019-08-24 16:48:24</td>\n",
       "      <td>Ritual</td>\n",
       "      <td>Consistency</td>\n",
       "      <td>Dipam</td>\n",
       "      <td>0</td>\n",
       "      <td>2.0</td>\n",
       "      <td>2</td>\n",
       "      <td>0</td>\n",
       "    </tr>\n",
       "    <tr>\n",
       "      <th>565</th>\n",
       "      <td>0</td>\n",
       "      <td>AjKyaUkhada</td>\n",
       "      <td>2019-08-24 16:59:28</td>\n",
       "      <td>Ritual</td>\n",
       "      <td>Consistency</td>\n",
       "      <td>Sharika</td>\n",
       "      <td>0</td>\n",
       "      <td>2.0</td>\n",
       "      <td>2</td>\n",
       "      <td>0</td>\n",
       "    </tr>\n",
       "    <tr>\n",
       "      <th>566</th>\n",
       "      <td>0</td>\n",
       "      <td>AjKyaUkhada</td>\n",
       "      <td>2019-08-24 17:18:42</td>\n",
       "      <td>Ritual</td>\n",
       "      <td>Consistency</td>\n",
       "      <td>Ujjainee</td>\n",
       "      <td>0</td>\n",
       "      <td>2.0</td>\n",
       "      <td>2</td>\n",
       "      <td>0</td>\n",
       "    </tr>\n",
       "    <tr>\n",
       "      <th>567</th>\n",
       "      <td>0</td>\n",
       "      <td>AjKyaUkhada</td>\n",
       "      <td>2019-08-24 17:22:21</td>\n",
       "      <td>Ritual</td>\n",
       "      <td>Consistency</td>\n",
       "      <td>Vishal</td>\n",
       "      <td>0</td>\n",
       "      <td>2.0</td>\n",
       "      <td>2</td>\n",
       "      <td>0</td>\n",
       "    </tr>\n",
       "    <tr>\n",
       "      <th>568</th>\n",
       "      <td>0</td>\n",
       "      <td>AjKyaUkhada</td>\n",
       "      <td>2019-08-24 17:45:58</td>\n",
       "      <td>Ritual</td>\n",
       "      <td>Consistency</td>\n",
       "      <td>Purbita</td>\n",
       "      <td>0</td>\n",
       "      <td>2.0</td>\n",
       "      <td>2</td>\n",
       "      <td>0</td>\n",
       "    </tr>\n",
       "    <tr>\n",
       "      <th>569</th>\n",
       "      <td>0</td>\n",
       "      <td>AjKyaUkhada</td>\n",
       "      <td>2019-08-24 17:54:39</td>\n",
       "      <td>Ritual</td>\n",
       "      <td>Consistency</td>\n",
       "      <td>Shakib</td>\n",
       "      <td>0</td>\n",
       "      <td>2.0</td>\n",
       "      <td>2</td>\n",
       "      <td>0</td>\n",
       "    </tr>\n",
       "    <tr>\n",
       "      <th>570</th>\n",
       "      <td>0</td>\n",
       "      <td>AjKyaUkhada</td>\n",
       "      <td>2019-08-24 18:02:41</td>\n",
       "      <td>Ritual</td>\n",
       "      <td>Consistency</td>\n",
       "      <td>Kaushal</td>\n",
       "      <td>0</td>\n",
       "      <td>2.0</td>\n",
       "      <td>2</td>\n",
       "      <td>0</td>\n",
       "    </tr>\n",
       "    <tr>\n",
       "      <th>571</th>\n",
       "      <td>0</td>\n",
       "      <td>AjKyaUkhada</td>\n",
       "      <td>2019-08-24 18:06:19</td>\n",
       "      <td>Ritual</td>\n",
       "      <td>Consistency</td>\n",
       "      <td>Prasoon</td>\n",
       "      <td>0</td>\n",
       "      <td>2.0</td>\n",
       "      <td>2</td>\n",
       "      <td>0</td>\n",
       "    </tr>\n",
       "    <tr>\n",
       "      <th>572</th>\n",
       "      <td>0</td>\n",
       "      <td>AjKyaUkhada</td>\n",
       "      <td>2019-08-24 18:21:16</td>\n",
       "      <td>Ritual</td>\n",
       "      <td>Consistency</td>\n",
       "      <td>Surabhi</td>\n",
       "      <td>0</td>\n",
       "      <td>2.0</td>\n",
       "      <td>2</td>\n",
       "      <td>0</td>\n",
       "    </tr>\n",
       "    <tr>\n",
       "      <th>573</th>\n",
       "      <td>0</td>\n",
       "      <td>AjKyaUkhada</td>\n",
       "      <td>2019-08-24 18:48:26</td>\n",
       "      <td>Ritual</td>\n",
       "      <td>Consistency</td>\n",
       "      <td>Chandrima</td>\n",
       "      <td>0</td>\n",
       "      <td>2.0</td>\n",
       "      <td>2</td>\n",
       "      <td>0</td>\n",
       "    </tr>\n",
       "    <tr>\n",
       "      <th>574</th>\n",
       "      <td>0</td>\n",
       "      <td>AjKyaUkhada</td>\n",
       "      <td>2019-08-24 19:12:08</td>\n",
       "      <td>Ritual</td>\n",
       "      <td>Consistency</td>\n",
       "      <td>Kunal</td>\n",
       "      <td>0</td>\n",
       "      <td>2.0</td>\n",
       "      <td>2</td>\n",
       "      <td>0</td>\n",
       "    </tr>\n",
       "    <tr>\n",
       "      <th>575</th>\n",
       "      <td>0</td>\n",
       "      <td>AjKyaUkhada</td>\n",
       "      <td>2019-08-24 19:51:19</td>\n",
       "      <td>Ritual</td>\n",
       "      <td>Consistency</td>\n",
       "      <td>Apurwa</td>\n",
       "      <td>0</td>\n",
       "      <td>2.0</td>\n",
       "      <td>2</td>\n",
       "      <td>0</td>\n",
       "    </tr>\n",
       "    <tr>\n",
       "      <th>576</th>\n",
       "      <td>0</td>\n",
       "      <td>AjKyaUkhada</td>\n",
       "      <td>2019-08-25 3:01:11</td>\n",
       "      <td>Ritual</td>\n",
       "      <td>Consistency</td>\n",
       "      <td>Roumyak</td>\n",
       "      <td>0</td>\n",
       "      <td>2.0</td>\n",
       "      <td>2</td>\n",
       "      <td>0</td>\n",
       "    </tr>\n",
       "    <tr>\n",
       "      <th>577</th>\n",
       "      <td>0</td>\n",
       "      <td>AjKyaUkhada</td>\n",
       "      <td>2019-08-25 3:25:06</td>\n",
       "      <td>Ritual</td>\n",
       "      <td>Consistency</td>\n",
       "      <td>Sonali</td>\n",
       "      <td>0</td>\n",
       "      <td>2.0</td>\n",
       "      <td>2</td>\n",
       "      <td>0</td>\n",
       "    </tr>\n",
       "  </tbody>\n",
       "</table>\n",
       "<p>578 rows × 10 columns</p>\n",
       "</div>"
      ],
      "text/plain": [
       "     id               Task                 Date            Module  \\\n",
       "0     0        AjKyaUkhada  2019-08-01 13:26:57            Ritual   \n",
       "1     0        AjKyaUkhada  2019-08-01 14:40:42            Ritual   \n",
       "2     0        AjKyaUkhada  2019-08-01 14:44:34            Ritual   \n",
       "3     0        AjKyaUkhada  2019-08-01 14:47:05            Ritual   \n",
       "4     0        AjKyaUkhada  2019-08-01 14:48:11            Ritual   \n",
       "5     0        AjKyaUkhada  2019-08-01 15:05:13            Ritual   \n",
       "6     0        AjKyaUkhada  2019-08-01 15:55:48            Ritual   \n",
       "7     0        AjKyaUkhada  2019-08-01 16:08:05            Ritual   \n",
       "8     0        AjKyaUkhada  2019-08-01 16:16:30            Ritual   \n",
       "9     0        AjKyaUkhada  2019-08-01 16:17:01            Ritual   \n",
       "10    0        AjKyaUkhada  2019-08-01 17:05:15            Ritual   \n",
       "11    0        AjKyaUkhada  2019-08-01 17:29:07            Ritual   \n",
       "12    0        AjKyaUkhada  2019-08-01 18:01:53            Ritual   \n",
       "13    0        AjKyaUkhada  2019-08-01 18:21:29            Ritual   \n",
       "14    0        AjKyaUkhada  2019-08-01 18:29:24            Ritual   \n",
       "15    0        AjKyaUkhada  2019-08-01 19:52:40            Ritual   \n",
       "16    5       Video Resume             8/1/2019  Profile Building   \n",
       "17    5       Video Resume             8/1/2019  Profile Building   \n",
       "18    5       Video Resume             8/1/2019  Profile Building   \n",
       "19    5       Video Resume             8/1/2019  Profile Building   \n",
       "20    5       Video Resume             8/1/2019  Profile Building   \n",
       "21    5       Video Resume             8/1/2019  Profile Building   \n",
       "22    5       Video Resume             8/1/2019  Profile Building   \n",
       "23    5       Video Resume             8/1/2019  Profile Building   \n",
       "24    5       Video Resume             8/1/2019  Profile Building   \n",
       "25    5       Video Resume             8/1/2019  Profile Building   \n",
       "26    5       Video Resume             8/1/2019  Profile Building   \n",
       "27    5       Video Resume             8/1/2019  Profile Building   \n",
       "28    5       Video Resume             8/1/2019  Profile Building   \n",
       "29    5       Video Resume             8/1/2019  Profile Building   \n",
       "..   ..                ...                  ...               ...   \n",
       "548   0        AjKyaUkhada  2019-08-23 17:06:22            Ritual   \n",
       "549   0        AjKyaUkhada  2019-08-23 17:18:56            Ritual   \n",
       "550   0        AjKyaUkhada  2019-08-23 17:25:50            Ritual   \n",
       "551   0        AjKyaUkhada  2019-08-23 17:43:19            Ritual   \n",
       "552   0        AjKyaUkhada  2019-08-23 18:05:16            Ritual   \n",
       "553   0        AjKyaUkhada  2019-08-23 18:14:20            Ritual   \n",
       "554   0        AjKyaUkhada  2019-08-23 18:15:35            Ritual   \n",
       "555   0        AjKyaUkhada  2019-08-23 18:32:31            Ritual   \n",
       "556   0  Knowledge Sharing  2019-08-23 19:58:02            Ritual   \n",
       "557   0        AjKyaUkhada  2019-08-23 20:59:41            Ritual   \n",
       "558   0        AjKyaUkhada   2019-08-24 2:00:44            Ritual   \n",
       "559   0        AjKyaUkhada   2019-08-24 4:48:30            Ritual   \n",
       "560   0        AjKyaUkhada   2019-08-24 5:05:07            Ritual   \n",
       "561   0        AjKyaUkhada  2019-08-24 11:55:47            Ritual   \n",
       "562   0        AjKyaUkhada  2019-08-24 16:22:11            Ritual   \n",
       "563   0        AjKyaUkhada  2019-08-24 16:28:42            Ritual   \n",
       "564   0        AjKyaUkhada  2019-08-24 16:48:24            Ritual   \n",
       "565   0        AjKyaUkhada  2019-08-24 16:59:28            Ritual   \n",
       "566   0        AjKyaUkhada  2019-08-24 17:18:42            Ritual   \n",
       "567   0        AjKyaUkhada  2019-08-24 17:22:21            Ritual   \n",
       "568   0        AjKyaUkhada  2019-08-24 17:45:58            Ritual   \n",
       "569   0        AjKyaUkhada  2019-08-24 17:54:39            Ritual   \n",
       "570   0        AjKyaUkhada  2019-08-24 18:02:41            Ritual   \n",
       "571   0        AjKyaUkhada  2019-08-24 18:06:19            Ritual   \n",
       "572   0        AjKyaUkhada  2019-08-24 18:21:16            Ritual   \n",
       "573   0        AjKyaUkhada  2019-08-24 18:48:26            Ritual   \n",
       "574   0        AjKyaUkhada  2019-08-24 19:12:08            Ritual   \n",
       "575   0        AjKyaUkhada  2019-08-24 19:51:19            Ritual   \n",
       "576   0        AjKyaUkhada   2019-08-25 3:01:11            Ritual   \n",
       "577   0        AjKyaUkhada   2019-08-25 3:25:06            Ritual   \n",
       "\n",
       "                                           Type       Student  \\\n",
       "0                                   Consistency        Sonali   \n",
       "1                                   Consistency     Chandrima   \n",
       "2                                   Consistency       Purbita   \n",
       "3                                   Consistency         Kunal   \n",
       "4                                   Consistency       Kaushal   \n",
       "5                                   Consistency         Durga   \n",
       "6                                   Consistency      Ujjainee   \n",
       "7                                   Consistency         Dipam   \n",
       "8                                   Consistency  Siddhishikha   \n",
       "9                                   Consistency       Surabhi   \n",
       "10                                  Consistency      Swaastik   \n",
       "11                                  Consistency       Sharika   \n",
       "12                                  Consistency        Apurwa   \n",
       "13                                  Consistency        Shakib   \n",
       "14                                  Consistency        Vishal   \n",
       "15                                  Consistency         Wrick   \n",
       "16   Creativity,Communication,Intent,Confidence     Chandrima   \n",
       "17   Creativity,Communication,Intent,Confidence         Dipam   \n",
       "18   Creativity,Communication,Intent,Confidence         Durga   \n",
       "19   Creativity,Communication,Intent,Confidence       Kaushal   \n",
       "20   Creativity,Communication,Intent,Confidence          Arya   \n",
       "21   Creativity,Communication,Intent,Confidence         Kunal   \n",
       "22   Creativity,Communication,Intent,Confidence       Purbita   \n",
       "23   Creativity,Communication,Intent,Confidence       Roumyak   \n",
       "24   Creativity,Communication,Intent,Confidence        Shakib   \n",
       "25   Creativity,Communication,Intent,Confidence      Shantanu   \n",
       "26   Creativity,Communication,Intent,Confidence       Sharika   \n",
       "27   Creativity,Communication,Intent,Confidence        Sonali   \n",
       "28   Creativity,Communication,Intent,Confidence       Surabhi   \n",
       "29   Creativity,Communication,Intent,Confidence  Siddhishikha   \n",
       "..                                          ...           ...   \n",
       "548                                 Consistency     Chandrima   \n",
       "549                                 Consistency         Dipam   \n",
       "550                                 Consistency  Siddhishikha   \n",
       "551                                 Consistency       Surabhi   \n",
       "552                                 Consistency        Shakib   \n",
       "553                                 Consistency       Kaushal   \n",
       "554                                 Consistency       Sharika   \n",
       "555                                 Consistency        Apurwa   \n",
       "556                       Consistency,Curiosity         Durga   \n",
       "557                                 Consistency        Vishal   \n",
       "558                                 Consistency     Swaastick   \n",
       "559                                 Consistency      Shantanu   \n",
       "560                                 Consistency       Prasoon   \n",
       "561                                 Consistency        Sonali   \n",
       "562                                 Consistency         Durga   \n",
       "563                                 Consistency  Siddhishikha   \n",
       "564                                 Consistency         Dipam   \n",
       "565                                 Consistency       Sharika   \n",
       "566                                 Consistency      Ujjainee   \n",
       "567                                 Consistency        Vishal   \n",
       "568                                 Consistency       Purbita   \n",
       "569                                 Consistency        Shakib   \n",
       "570                                 Consistency       Kaushal   \n",
       "571                                 Consistency       Prasoon   \n",
       "572                                 Consistency       Surabhi   \n",
       "573                                 Consistency     Chandrima   \n",
       "574                                 Consistency         Kunal   \n",
       "575                                 Consistency        Apurwa   \n",
       "576                                 Consistency       Roumyak   \n",
       "577                                 Consistency        Sonali   \n",
       "\n",
       "     Late Submission  Points  Total  Task Winner  \n",
       "0                  0     2.0      2            0  \n",
       "1                  0     2.0      2            0  \n",
       "2                  0     2.0      2            0  \n",
       "3                  0     2.0      2            0  \n",
       "4                  0     2.0      2            0  \n",
       "5                  0     2.0      2            0  \n",
       "6                  0     2.0      2            0  \n",
       "7                  0     2.0      2            0  \n",
       "8                  0     2.0      2            0  \n",
       "9                  0     2.0      2            0  \n",
       "10                 0     2.0      2            0  \n",
       "11                 0     2.0      2            0  \n",
       "12                 0     2.0      2            0  \n",
       "13                 0     2.0      2            0  \n",
       "14                 0     2.0      2            0  \n",
       "15                 0     2.0      2            0  \n",
       "16                 0    16.5     20            0  \n",
       "17                 0    14.0     20            0  \n",
       "18                 0    16.5     20            0  \n",
       "19                 1    16.5     20            0  \n",
       "20                 1    18.5     20            0  \n",
       "21                 0    20.0     20            0  \n",
       "22                 0    18.0     20            0  \n",
       "23                 0    20.0     20            1  \n",
       "24                 0    17.5     20            0  \n",
       "25                 0    20.0     20            1  \n",
       "26                 1    20.0     20            0  \n",
       "27                 1    16.5     20            0  \n",
       "28                 0    20.0     20            1  \n",
       "29                 0    16.0     20            0  \n",
       "..               ...     ...    ...          ...  \n",
       "548                0     2.0      2            0  \n",
       "549                0     2.0      2            0  \n",
       "550                0     2.0      2            0  \n",
       "551                0     2.0      2            0  \n",
       "552                0     2.0      2            0  \n",
       "553                0     2.0      2            0  \n",
       "554                0     2.0      2            0  \n",
       "555                0     2.0      2            0  \n",
       "556                0     2.0      2            0  \n",
       "557                0     2.0      2            0  \n",
       "558                0     2.0      2            0  \n",
       "559                0     2.0      2            0  \n",
       "560                0     2.0      2            0  \n",
       "561                0     2.0      2            0  \n",
       "562                0     2.0      2            0  \n",
       "563                0     2.0      2            0  \n",
       "564                0     2.0      2            0  \n",
       "565                0     2.0      2            0  \n",
       "566                0     2.0      2            0  \n",
       "567                0     2.0      2            0  \n",
       "568                0     2.0      2            0  \n",
       "569                0     2.0      2            0  \n",
       "570                0     2.0      2            0  \n",
       "571                0     2.0      2            0  \n",
       "572                0     2.0      2            0  \n",
       "573                0     2.0      2            0  \n",
       "574                0     2.0      2            0  \n",
       "575                0     2.0      2            0  \n",
       "576                0     2.0      2            0  \n",
       "577                0     2.0      2            0  \n",
       "\n",
       "[578 rows x 10 columns]"
      ]
     },
     "execution_count": 440,
     "metadata": {},
     "output_type": "execute_result"
    }
   ],
   "source": [
    "data"
   ]
  },
  {
   "cell_type": "markdown",
   "metadata": {},
   "source": [
    "### Cleaning data set"
   ]
  },
  {
   "cell_type": "code",
   "execution_count": 441,
   "metadata": {
    "scrolled": true
   },
   "outputs": [],
   "source": [
    "data[\"id\"]=pd.to_numeric(data[\"id\"])"
   ]
  },
  {
   "cell_type": "code",
   "execution_count": 442,
   "metadata": {},
   "outputs": [],
   "source": [
    "data[\"Student\"].fillna(\"Swaastik\",inplace=True)  # few empty blocks is actually me\n",
    "data[\"Student\"].replace(\"Swaastik\",\"Swaastick\",inplace=True)  \n",
    "\n",
    "mask=data[\"Student\"]!=\"Nitish\"                   # removing sir\n",
    "data=data[mask]"
   ]
  },
  {
   "cell_type": "code",
   "execution_count": null,
   "metadata": {},
   "outputs": [],
   "source": []
  },
  {
   "cell_type": "code",
   "execution_count": null,
   "metadata": {},
   "outputs": [],
   "source": []
  },
  {
   "cell_type": "code",
   "execution_count": 443,
   "metadata": {},
   "outputs": [
    {
     "name": "stderr",
     "output_type": "stream",
     "text": [
      "C:\\Users\\Swastik\\Anaconda3\\lib\\site-packages\\ipykernel_launcher.py:3: SettingWithCopyWarning:\n",
      "\n",
      "\n",
      "A value is trying to be set on a copy of a slice from a DataFrame\n",
      "\n",
      "See the caveats in the documentation: http://pandas.pydata.org/pandas-docs/stable/indexing.html#indexing-view-versus-copy\n",
      "\n"
     ]
    }
   ],
   "source": [
    "data.reset_index(inplace=True)  # giving index to data set\n",
    "#data.drop([0],inplace=True)     # the first row contains nothing so removing it\n",
    "data.dropna(inplace=True)\n",
    "data=data.iloc[:,:10]           # Removing all unnessary columns after Task Winner if any"
   ]
  },
  {
   "cell_type": "code",
   "execution_count": 444,
   "metadata": {
    "scrolled": true
   },
   "outputs": [],
   "source": [
    "#data # cleaner data-set"
   ]
  },
  {
   "cell_type": "markdown",
   "metadata": {},
   "source": [
    "#### cleaning date"
   ]
  },
  {
   "cell_type": "code",
   "execution_count": 445,
   "metadata": {},
   "outputs": [],
   "source": [
    "date_day=[]\n",
    "date_month=[]\n",
    "date_year=[]\n",
    "\n",
    "for i in range(data.shape[0]):\n",
    "    \n",
    "    pos=data[\"Date\"][i].find(\"/\")\n",
    "    \n",
    "    if(len(data[\"Date\"][i])>=18):                     # 2019-08-01 14:40:42\n",
    "        #data[\"Date\"][i]=data[\"Date\"][i][:10]\n",
    "        date_day.append(int(data[\"Date\"][i][8:10]))\n",
    "        date_month.append(int(data[\"Date\"][i][5:7]))\n",
    "        date_year.append(int(data[\"Date\"][i][:4]))\n",
    "        \n",
    "    if(len(data[\"Date\"][i])<18):  \n",
    "        \n",
    "        if( (int(data[\"Date\"][i][pos+1:-5]))>12 or ( (len(data[\"Date\"][i][pos+1:-5])==2) and (data[\"Date\"][i][pos+1:-5][0]==\"0\") )  ):    # 14/08/2019\n",
    "            pos=data[\"Date\"][i].find(\"/\")\n",
    "            date_day.append(int(data[\"Date\"][i][:pos]))\n",
    "            date_month.append(int(data[\"Date\"][i][pos+1:-5]))\n",
    "            date_year.append(int(data[\"Date\"][i][-4:]))\n",
    "        \n",
    "        else:\n",
    "            pos=data[\"Date\"][i].find(\"/\")                     # 8/1/2019\n",
    "            date_month.append(int(data[\"Date\"][i][:pos]))\n",
    "            date_day.append(int(data[\"Date\"][i][pos+1:-5]))\n",
    "            date_year.append(int(data[\"Date\"][i][-4:]))   \n",
    "\n",
    "data[\"Date_day\"]=date_day\n",
    "data[\"Date_month\"]=date_month\n",
    "data[\"Date_year\"]=date_year"
   ]
  },
  {
   "cell_type": "code",
   "execution_count": 446,
   "metadata": {},
   "outputs": [],
   "source": [
    "data.drop(columns=[\"Date\"],inplace=True)"
   ]
  },
  {
   "cell_type": "code",
   "execution_count": null,
   "metadata": {},
   "outputs": [],
   "source": []
  },
  {
   "cell_type": "code",
   "execution_count": 447,
   "metadata": {},
   "outputs": [
    {
     "data": {
      "text/plain": [
       "Consistency                                   407\n",
       "Consistency,Curiosity                          63\n",
       "Diligence                                      20\n",
       "Analysis, communication, sincerity             19\n",
       "Creativity,Intent,sincerity                    18\n",
       "Creativity,Communication,Intent,Confidence     17\n",
       "Sincerity,Hard-work                            16\n",
       "Creativity, Intent                             15\n",
       "Name: Type, dtype: int64"
      ]
     },
     "execution_count": 447,
     "metadata": {},
     "output_type": "execute_result"
    }
   ],
   "source": [
    "data[\"Type\"].value_counts()"
   ]
  },
  {
   "cell_type": "code",
   "execution_count": 448,
   "metadata": {},
   "outputs": [
    {
     "data": {
      "text/plain": [
       "['Consistency',\n",
       " 'Curiosity',\n",
       " 'Diligence',\n",
       " 'Creativity',\n",
       " 'Intent',\n",
       " 'sincerity',\n",
       " 'Communication',\n",
       " 'Confidence',\n",
       " 'Hard-work']"
      ]
     },
     "execution_count": 448,
     "metadata": {},
     "output_type": "execute_result"
    }
   ],
   "source": [
    "arr_type_name=[\"Consistency\",\"Curiosity\",\"Diligence\",\"Creativity\",\"Intent\",\"sincerity\",\"Communication\",\"Confidence\",\"Hard-work\"]\n",
    "arr_type_name"
   ]
  },
  {
   "cell_type": "code",
   "execution_count": 449,
   "metadata": {},
   "outputs": [
    {
     "name": "stdout",
     "output_type": "stream",
     "text": [
      "33 9 1 3 3 2 1 1 1\n"
     ]
    },
    {
     "data": {
      "text/plain": [
       "[33, 9, 1, 3, 3, 2, 1, 1, 1]"
      ]
     },
     "execution_count": 449,
     "metadata": {},
     "output_type": "execute_result"
    }
   ],
   "source": [
    "type_cons_max=type_cur_max=type_dil_max=type_cre_max=type_int_max=type_sin_max=type_comm_max=type_conf_max=type_hard_max=0\n",
    "\n",
    "for i in range(student_names.size):\n",
    "    mask=data[\"Student\"]==student_names[i]\n",
    "    df=data[mask]\n",
    "    df.reset_index(drop=True,inplace=True)\n",
    "    type_cons=type_cur=type_dil=type_cre=type_int=type_sin=type_comm=type_conf=type_hard=0\n",
    "    for i in range(df.shape[0]):\n",
    "        type_cons+=df[\"Type\"][i].count(\"Consistency\")\n",
    "        type_cur+=df[\"Type\"][i].count(\"Curiosity\")\n",
    "        type_dil+=df[\"Type\"][i].count(\"Diligence\")\n",
    "        type_cre+=df[\"Type\"][i].count(\"Creativity\")\n",
    "        type_int+=df[\"Type\"][i].count(\"Intent\")\n",
    "        type_sin+=df[\"Type\"][i].count(\"sincerity\")\n",
    "        type_comm+=df[\"Type\"][i].count(\"Communication\")\n",
    "        type_conf+=df[\"Type\"][i].count(\"Confidence\")\n",
    "        type_hard+=df[\"Type\"][i].count(\"Hard-work\")\n",
    "\n",
    "\n",
    "    #print(type_cons,type_cur,type_dil,type_cre,type_int,type_sin,type_comm,type_conf,type_hard)\n",
    "    \n",
    "    type_cons_max=max(type_cons_max,type_cons)\n",
    "    type_cur_max=max(type_cur_max,type_cur)\n",
    "    type_dil_max=max(type_dil_max,type_dil)\n",
    "    type_cre_max=max(type_cre_max,type_cre)\n",
    "    type_int_max=max(type_int_max,type_int)\n",
    "    type_sin_max=max(type_sin_max,type_sin)\n",
    "    type_comm_max=max(type_comm_max,type_comm)\n",
    "    type_conf_max=max(type_conf_max,type_conf)\n",
    "    type_hard_max=max(type_hard_max,type_hard)\n",
    "    \n",
    "print(type_cons_max,type_cur_max,type_dil_max,type_cre_max,type_int_max,type_sin_max,type_comm_max,type_conf_max,type_hard_max)\n",
    "arr_type_max=[type_cons_max,type_cur_max,type_dil_max,type_cre_max,type_int_max,type_sin_max,type_comm_max,type_conf_max,type_hard_max]\n",
    "arr_type_max"
   ]
  },
  {
   "cell_type": "code",
   "execution_count": 450,
   "metadata": {},
   "outputs": [
    {
     "name": "stdout",
     "output_type": "stream",
     "text": [
      "31.0 6.0 1.0 2.2 2.2 1.5583333333333333 0.825 0.825 0.7\n"
     ]
    },
    {
     "data": {
      "text/html": [
       "<div>\n",
       "<style scoped>\n",
       "    .dataframe tbody tr th:only-of-type {\n",
       "        vertical-align: middle;\n",
       "    }\n",
       "\n",
       "    .dataframe tbody tr th {\n",
       "        vertical-align: top;\n",
       "    }\n",
       "\n",
       "    .dataframe thead th {\n",
       "        text-align: right;\n",
       "    }\n",
       "</style>\n",
       "<table border=\"1\" class=\"dataframe\">\n",
       "  <thead>\n",
       "    <tr style=\"text-align: right;\">\n",
       "      <th></th>\n",
       "      <th>index</th>\n",
       "      <th>id</th>\n",
       "      <th>Task</th>\n",
       "      <th>Module</th>\n",
       "      <th>Type</th>\n",
       "      <th>Student</th>\n",
       "      <th>Late Submission</th>\n",
       "      <th>Points</th>\n",
       "      <th>Total</th>\n",
       "      <th>Date_day</th>\n",
       "      <th>Date_month</th>\n",
       "      <th>Date_year</th>\n",
       "    </tr>\n",
       "  </thead>\n",
       "  <tbody>\n",
       "    <tr>\n",
       "      <th>0</th>\n",
       "      <td>1</td>\n",
       "      <td>0</td>\n",
       "      <td>AjKyaUkhada</td>\n",
       "      <td>Ritual</td>\n",
       "      <td>Consistency</td>\n",
       "      <td>Chandrima</td>\n",
       "      <td>0</td>\n",
       "      <td>2.0</td>\n",
       "      <td>2</td>\n",
       "      <td>1</td>\n",
       "      <td>8</td>\n",
       "      <td>2019</td>\n",
       "    </tr>\n",
       "    <tr>\n",
       "      <th>1</th>\n",
       "      <td>16</td>\n",
       "      <td>5</td>\n",
       "      <td>Video Resume</td>\n",
       "      <td>Profile Building</td>\n",
       "      <td>Creativity,Communication,Intent,Confidence</td>\n",
       "      <td>Chandrima</td>\n",
       "      <td>0</td>\n",
       "      <td>16.5</td>\n",
       "      <td>20</td>\n",
       "      <td>1</td>\n",
       "      <td>8</td>\n",
       "      <td>2019</td>\n",
       "    </tr>\n",
       "    <tr>\n",
       "      <th>2</th>\n",
       "      <td>49</td>\n",
       "      <td>0</td>\n",
       "      <td>AjKyaUkhada</td>\n",
       "      <td>Ritual</td>\n",
       "      <td>Consistency</td>\n",
       "      <td>Chandrima</td>\n",
       "      <td>0</td>\n",
       "      <td>2.0</td>\n",
       "      <td>2</td>\n",
       "      <td>2</td>\n",
       "      <td>8</td>\n",
       "      <td>2019</td>\n",
       "    </tr>\n",
       "    <tr>\n",
       "      <th>3</th>\n",
       "      <td>53</td>\n",
       "      <td>6</td>\n",
       "      <td>Online Resume</td>\n",
       "      <td>Profile Building</td>\n",
       "      <td>Creativity,Intent,sincerity</td>\n",
       "      <td>Chandrima</td>\n",
       "      <td>0</td>\n",
       "      <td>15.5</td>\n",
       "      <td>20</td>\n",
       "      <td>3</td>\n",
       "      <td>8</td>\n",
       "      <td>2019</td>\n",
       "    </tr>\n",
       "    <tr>\n",
       "      <th>4</th>\n",
       "      <td>83</td>\n",
       "      <td>0</td>\n",
       "      <td>AjKyaUkhada</td>\n",
       "      <td>Ritual</td>\n",
       "      <td>Consistency</td>\n",
       "      <td>Chandrima</td>\n",
       "      <td>0</td>\n",
       "      <td>2.0</td>\n",
       "      <td>2</td>\n",
       "      <td>3</td>\n",
       "      <td>8</td>\n",
       "      <td>2019</td>\n",
       "    </tr>\n",
       "    <tr>\n",
       "      <th>5</th>\n",
       "      <td>84</td>\n",
       "      <td>7</td>\n",
       "      <td>Blog and Project Pages</td>\n",
       "      <td>Profile Building</td>\n",
       "      <td>Creativity, Intent</td>\n",
       "      <td>Chandrima</td>\n",
       "      <td>0</td>\n",
       "      <td>6.0</td>\n",
       "      <td>10</td>\n",
       "      <td>4</td>\n",
       "      <td>8</td>\n",
       "      <td>2019</td>\n",
       "    </tr>\n",
       "    <tr>\n",
       "      <th>6</th>\n",
       "      <td>105</td>\n",
       "      <td>0</td>\n",
       "      <td>AjKyaUkhada</td>\n",
       "      <td>Ritual</td>\n",
       "      <td>Consistency</td>\n",
       "      <td>Chandrima</td>\n",
       "      <td>0</td>\n",
       "      <td>2.0</td>\n",
       "      <td>2</td>\n",
       "      <td>4</td>\n",
       "      <td>8</td>\n",
       "      <td>2019</td>\n",
       "    </tr>\n",
       "    <tr>\n",
       "      <th>7</th>\n",
       "      <td>123</td>\n",
       "      <td>0</td>\n",
       "      <td>AjKyaUkhada</td>\n",
       "      <td>Ritual</td>\n",
       "      <td>Consistency</td>\n",
       "      <td>Chandrima</td>\n",
       "      <td>0</td>\n",
       "      <td>2.0</td>\n",
       "      <td>2</td>\n",
       "      <td>5</td>\n",
       "      <td>8</td>\n",
       "      <td>2019</td>\n",
       "    </tr>\n",
       "    <tr>\n",
       "      <th>8</th>\n",
       "      <td>139</td>\n",
       "      <td>0</td>\n",
       "      <td>AjKyaUkhada</td>\n",
       "      <td>Ritual</td>\n",
       "      <td>Consistency</td>\n",
       "      <td>Chandrima</td>\n",
       "      <td>0</td>\n",
       "      <td>2.0</td>\n",
       "      <td>2</td>\n",
       "      <td>6</td>\n",
       "      <td>8</td>\n",
       "      <td>2019</td>\n",
       "    </tr>\n",
       "    <tr>\n",
       "      <th>9</th>\n",
       "      <td>157</td>\n",
       "      <td>0</td>\n",
       "      <td>AjKyaUkhada</td>\n",
       "      <td>Ritual</td>\n",
       "      <td>Consistency</td>\n",
       "      <td>Chandrima</td>\n",
       "      <td>0</td>\n",
       "      <td>2.0</td>\n",
       "      <td>2</td>\n",
       "      <td>7</td>\n",
       "      <td>8</td>\n",
       "      <td>2019</td>\n",
       "    </tr>\n",
       "    <tr>\n",
       "      <th>10</th>\n",
       "      <td>158</td>\n",
       "      <td>0</td>\n",
       "      <td>AjKyaUkhada</td>\n",
       "      <td>Ritual</td>\n",
       "      <td>Consistency</td>\n",
       "      <td>Chandrima</td>\n",
       "      <td>0</td>\n",
       "      <td>2.0</td>\n",
       "      <td>2</td>\n",
       "      <td>7</td>\n",
       "      <td>8</td>\n",
       "      <td>2019</td>\n",
       "    </tr>\n",
       "    <tr>\n",
       "      <th>11</th>\n",
       "      <td>184</td>\n",
       "      <td>0</td>\n",
       "      <td>AjKyaUkhada</td>\n",
       "      <td>Ritual</td>\n",
       "      <td>Consistency</td>\n",
       "      <td>Chandrima</td>\n",
       "      <td>0</td>\n",
       "      <td>2.0</td>\n",
       "      <td>2</td>\n",
       "      <td>8</td>\n",
       "      <td>8</td>\n",
       "      <td>2019</td>\n",
       "    </tr>\n",
       "    <tr>\n",
       "      <th>12</th>\n",
       "      <td>206</td>\n",
       "      <td>0</td>\n",
       "      <td>Knowledge Sharing</td>\n",
       "      <td>Ritual</td>\n",
       "      <td>Consistency,Curiosity</td>\n",
       "      <td>Chandrima</td>\n",
       "      <td>0</td>\n",
       "      <td>5.0</td>\n",
       "      <td>5</td>\n",
       "      <td>9</td>\n",
       "      <td>8</td>\n",
       "      <td>2019</td>\n",
       "    </tr>\n",
       "    <tr>\n",
       "      <th>13</th>\n",
       "      <td>207</td>\n",
       "      <td>0</td>\n",
       "      <td>AjKyaUkhada</td>\n",
       "      <td>Ritual</td>\n",
       "      <td>Consistency</td>\n",
       "      <td>Chandrima</td>\n",
       "      <td>0</td>\n",
       "      <td>2.0</td>\n",
       "      <td>2</td>\n",
       "      <td>9</td>\n",
       "      <td>8</td>\n",
       "      <td>2019</td>\n",
       "    </tr>\n",
       "    <tr>\n",
       "      <th>14</th>\n",
       "      <td>216</td>\n",
       "      <td>0</td>\n",
       "      <td>AjKyaUkhada</td>\n",
       "      <td>Ritual</td>\n",
       "      <td>Consistency</td>\n",
       "      <td>Chandrima</td>\n",
       "      <td>0</td>\n",
       "      <td>2.0</td>\n",
       "      <td>2</td>\n",
       "      <td>10</td>\n",
       "      <td>8</td>\n",
       "      <td>2019</td>\n",
       "    </tr>\n",
       "    <tr>\n",
       "      <th>15</th>\n",
       "      <td>228</td>\n",
       "      <td>0</td>\n",
       "      <td>Knowledge Sharing</td>\n",
       "      <td>Ritual</td>\n",
       "      <td>Consistency,Curiosity</td>\n",
       "      <td>Chandrima</td>\n",
       "      <td>0</td>\n",
       "      <td>5.0</td>\n",
       "      <td>5</td>\n",
       "      <td>10</td>\n",
       "      <td>8</td>\n",
       "      <td>2019</td>\n",
       "    </tr>\n",
       "    <tr>\n",
       "      <th>16</th>\n",
       "      <td>244</td>\n",
       "      <td>0</td>\n",
       "      <td>AjKyaUkhada</td>\n",
       "      <td>Ritual</td>\n",
       "      <td>Consistency</td>\n",
       "      <td>Chandrima</td>\n",
       "      <td>0</td>\n",
       "      <td>2.0</td>\n",
       "      <td>2</td>\n",
       "      <td>11</td>\n",
       "      <td>8</td>\n",
       "      <td>2019</td>\n",
       "    </tr>\n",
       "    <tr>\n",
       "      <th>17</th>\n",
       "      <td>248</td>\n",
       "      <td>0</td>\n",
       "      <td>Knowledge Sharing</td>\n",
       "      <td>Ritual</td>\n",
       "      <td>Consistency,Curiosity</td>\n",
       "      <td>Chandrima</td>\n",
       "      <td>0</td>\n",
       "      <td>5.0</td>\n",
       "      <td>5</td>\n",
       "      <td>11</td>\n",
       "      <td>8</td>\n",
       "      <td>2019</td>\n",
       "    </tr>\n",
       "    <tr>\n",
       "      <th>18</th>\n",
       "      <td>259</td>\n",
       "      <td>0</td>\n",
       "      <td>Knowledge Sharing</td>\n",
       "      <td>Ritual</td>\n",
       "      <td>Consistency,Curiosity</td>\n",
       "      <td>Chandrima</td>\n",
       "      <td>0</td>\n",
       "      <td>5.0</td>\n",
       "      <td>5</td>\n",
       "      <td>12</td>\n",
       "      <td>8</td>\n",
       "      <td>2019</td>\n",
       "    </tr>\n",
       "    <tr>\n",
       "      <th>19</th>\n",
       "      <td>270</td>\n",
       "      <td>0</td>\n",
       "      <td>AjKyaUkhada</td>\n",
       "      <td>Ritual</td>\n",
       "      <td>Consistency</td>\n",
       "      <td>Chandrima</td>\n",
       "      <td>0</td>\n",
       "      <td>2.0</td>\n",
       "      <td>2</td>\n",
       "      <td>12</td>\n",
       "      <td>8</td>\n",
       "      <td>2019</td>\n",
       "    </tr>\n",
       "    <tr>\n",
       "      <th>20</th>\n",
       "      <td>284</td>\n",
       "      <td>8</td>\n",
       "      <td>Github Profile Creation</td>\n",
       "      <td>Profile Building</td>\n",
       "      <td>Sincerity,Hard-work</td>\n",
       "      <td>Chandrima</td>\n",
       "      <td>1</td>\n",
       "      <td>7.0</td>\n",
       "      <td>10</td>\n",
       "      <td>13</td>\n",
       "      <td>8</td>\n",
       "      <td>2019</td>\n",
       "    </tr>\n",
       "    <tr>\n",
       "      <th>21</th>\n",
       "      <td>315</td>\n",
       "      <td>0</td>\n",
       "      <td>AjKyaUkhada</td>\n",
       "      <td>Ritual</td>\n",
       "      <td>Consistency</td>\n",
       "      <td>Chandrima</td>\n",
       "      <td>0</td>\n",
       "      <td>2.0</td>\n",
       "      <td>2</td>\n",
       "      <td>13</td>\n",
       "      <td>8</td>\n",
       "      <td>2019</td>\n",
       "    </tr>\n",
       "    <tr>\n",
       "      <th>22</th>\n",
       "      <td>316</td>\n",
       "      <td>0</td>\n",
       "      <td>Knowledge Sharing</td>\n",
       "      <td>Ritual</td>\n",
       "      <td>Consistency,Curiosity</td>\n",
       "      <td>Chandrima</td>\n",
       "      <td>0</td>\n",
       "      <td>5.0</td>\n",
       "      <td>5</td>\n",
       "      <td>13</td>\n",
       "      <td>8</td>\n",
       "      <td>2019</td>\n",
       "    </tr>\n",
       "    <tr>\n",
       "      <th>23</th>\n",
       "      <td>327</td>\n",
       "      <td>10</td>\n",
       "      <td>PPT Submission</td>\n",
       "      <td>Machine Learning</td>\n",
       "      <td>Diligence</td>\n",
       "      <td>Chandrima</td>\n",
       "      <td>1</td>\n",
       "      <td>5.0</td>\n",
       "      <td>5</td>\n",
       "      <td>14</td>\n",
       "      <td>8</td>\n",
       "      <td>2019</td>\n",
       "    </tr>\n",
       "    <tr>\n",
       "      <th>24</th>\n",
       "      <td>356</td>\n",
       "      <td>0</td>\n",
       "      <td>AjKyaUkhada</td>\n",
       "      <td>Ritual</td>\n",
       "      <td>Consistency</td>\n",
       "      <td>Chandrima</td>\n",
       "      <td>0</td>\n",
       "      <td>2.0</td>\n",
       "      <td>2</td>\n",
       "      <td>14</td>\n",
       "      <td>8</td>\n",
       "      <td>2019</td>\n",
       "    </tr>\n",
       "    <tr>\n",
       "      <th>25</th>\n",
       "      <td>397</td>\n",
       "      <td>0</td>\n",
       "      <td>Knowledge Sharing</td>\n",
       "      <td>Ritual</td>\n",
       "      <td>Consistency,Curiosity</td>\n",
       "      <td>Chandrima</td>\n",
       "      <td>0</td>\n",
       "      <td>2.0</td>\n",
       "      <td>2</td>\n",
       "      <td>20</td>\n",
       "      <td>8</td>\n",
       "      <td>2019</td>\n",
       "    </tr>\n",
       "    <tr>\n",
       "      <th>26</th>\n",
       "      <td>407</td>\n",
       "      <td>0</td>\n",
       "      <td>AjKyaUkhada</td>\n",
       "      <td>Ritual</td>\n",
       "      <td>Consistency</td>\n",
       "      <td>Chandrima</td>\n",
       "      <td>0</td>\n",
       "      <td>2.0</td>\n",
       "      <td>2</td>\n",
       "      <td>18</td>\n",
       "      <td>8</td>\n",
       "      <td>2019</td>\n",
       "    </tr>\n",
       "    <tr>\n",
       "      <th>27</th>\n",
       "      <td>451</td>\n",
       "      <td>0</td>\n",
       "      <td>AjKyaUkhada</td>\n",
       "      <td>Ritual</td>\n",
       "      <td>Consistency</td>\n",
       "      <td>Chandrima</td>\n",
       "      <td>0</td>\n",
       "      <td>2.0</td>\n",
       "      <td>2</td>\n",
       "      <td>15</td>\n",
       "      <td>8</td>\n",
       "      <td>2019</td>\n",
       "    </tr>\n",
       "    <tr>\n",
       "      <th>28</th>\n",
       "      <td>461</td>\n",
       "      <td>0</td>\n",
       "      <td>AjKyaUkhada</td>\n",
       "      <td>Ritual</td>\n",
       "      <td>Consistency</td>\n",
       "      <td>Chandrima</td>\n",
       "      <td>0</td>\n",
       "      <td>2.0</td>\n",
       "      <td>2</td>\n",
       "      <td>19</td>\n",
       "      <td>8</td>\n",
       "      <td>2019</td>\n",
       "    </tr>\n",
       "    <tr>\n",
       "      <th>29</th>\n",
       "      <td>477</td>\n",
       "      <td>0</td>\n",
       "      <td>AjKyaUkhada</td>\n",
       "      <td>Ritual</td>\n",
       "      <td>Consistency</td>\n",
       "      <td>Chandrima</td>\n",
       "      <td>0</td>\n",
       "      <td>2.0</td>\n",
       "      <td>2</td>\n",
       "      <td>21</td>\n",
       "      <td>8</td>\n",
       "      <td>2019</td>\n",
       "    </tr>\n",
       "    <tr>\n",
       "      <th>30</th>\n",
       "      <td>485</td>\n",
       "      <td>0</td>\n",
       "      <td>AjKyaUkhada</td>\n",
       "      <td>Ritual</td>\n",
       "      <td>Consistency</td>\n",
       "      <td>Chandrima</td>\n",
       "      <td>0</td>\n",
       "      <td>2.0</td>\n",
       "      <td>2</td>\n",
       "      <td>20</td>\n",
       "      <td>8</td>\n",
       "      <td>2019</td>\n",
       "    </tr>\n",
       "    <tr>\n",
       "      <th>31</th>\n",
       "      <td>491</td>\n",
       "      <td>0</td>\n",
       "      <td>AjKyaUkhada</td>\n",
       "      <td>Ritual</td>\n",
       "      <td>Consistency</td>\n",
       "      <td>Chandrima</td>\n",
       "      <td>0</td>\n",
       "      <td>2.0</td>\n",
       "      <td>2</td>\n",
       "      <td>17</td>\n",
       "      <td>8</td>\n",
       "      <td>2019</td>\n",
       "    </tr>\n",
       "    <tr>\n",
       "      <th>32</th>\n",
       "      <td>501</td>\n",
       "      <td>0</td>\n",
       "      <td>AjKyaUkhada</td>\n",
       "      <td>Ritual</td>\n",
       "      <td>Consistency</td>\n",
       "      <td>Chandrima</td>\n",
       "      <td>0</td>\n",
       "      <td>2.0</td>\n",
       "      <td>2</td>\n",
       "      <td>22</td>\n",
       "      <td>8</td>\n",
       "      <td>2019</td>\n",
       "    </tr>\n",
       "    <tr>\n",
       "      <th>33</th>\n",
       "      <td>517</td>\n",
       "      <td>0</td>\n",
       "      <td>AjKyaUkhada</td>\n",
       "      <td>Ritual</td>\n",
       "      <td>Consistency</td>\n",
       "      <td>Chandrima</td>\n",
       "      <td>0</td>\n",
       "      <td>2.0</td>\n",
       "      <td>2</td>\n",
       "      <td>16</td>\n",
       "      <td>8</td>\n",
       "      <td>2019</td>\n",
       "    </tr>\n",
       "    <tr>\n",
       "      <th>34</th>\n",
       "      <td>525</td>\n",
       "      <td>9</td>\n",
       "      <td>Blog on Data Analysis Process</td>\n",
       "      <td>Data Analytics</td>\n",
       "      <td>Analysis, communication, sincerity</td>\n",
       "      <td>Chandrima</td>\n",
       "      <td>1</td>\n",
       "      <td>23.5</td>\n",
       "      <td>30</td>\n",
       "      <td>23</td>\n",
       "      <td>8</td>\n",
       "      <td>2019</td>\n",
       "    </tr>\n",
       "    <tr>\n",
       "      <th>35</th>\n",
       "      <td>548</td>\n",
       "      <td>0</td>\n",
       "      <td>AjKyaUkhada</td>\n",
       "      <td>Ritual</td>\n",
       "      <td>Consistency</td>\n",
       "      <td>Chandrima</td>\n",
       "      <td>0</td>\n",
       "      <td>2.0</td>\n",
       "      <td>2</td>\n",
       "      <td>23</td>\n",
       "      <td>8</td>\n",
       "      <td>2019</td>\n",
       "    </tr>\n",
       "    <tr>\n",
       "      <th>36</th>\n",
       "      <td>573</td>\n",
       "      <td>0</td>\n",
       "      <td>AjKyaUkhada</td>\n",
       "      <td>Ritual</td>\n",
       "      <td>Consistency</td>\n",
       "      <td>Chandrima</td>\n",
       "      <td>0</td>\n",
       "      <td>2.0</td>\n",
       "      <td>2</td>\n",
       "      <td>24</td>\n",
       "      <td>8</td>\n",
       "      <td>2019</td>\n",
       "    </tr>\n",
       "  </tbody>\n",
       "</table>\n",
       "</div>"
      ],
      "text/plain": [
       "    index  id                           Task            Module  \\\n",
       "0       1   0                    AjKyaUkhada            Ritual   \n",
       "1      16   5                   Video Resume  Profile Building   \n",
       "2      49   0                    AjKyaUkhada            Ritual   \n",
       "3      53   6                  Online Resume  Profile Building   \n",
       "4      83   0                    AjKyaUkhada            Ritual   \n",
       "5      84   7         Blog and Project Pages  Profile Building   \n",
       "6     105   0                    AjKyaUkhada            Ritual   \n",
       "7     123   0                    AjKyaUkhada            Ritual   \n",
       "8     139   0                    AjKyaUkhada            Ritual   \n",
       "9     157   0                    AjKyaUkhada            Ritual   \n",
       "10    158   0                    AjKyaUkhada            Ritual   \n",
       "11    184   0                    AjKyaUkhada            Ritual   \n",
       "12    206   0              Knowledge Sharing            Ritual   \n",
       "13    207   0                    AjKyaUkhada            Ritual   \n",
       "14    216   0                    AjKyaUkhada            Ritual   \n",
       "15    228   0              Knowledge Sharing            Ritual   \n",
       "16    244   0                    AjKyaUkhada            Ritual   \n",
       "17    248   0              Knowledge Sharing            Ritual   \n",
       "18    259   0              Knowledge Sharing            Ritual   \n",
       "19    270   0                    AjKyaUkhada            Ritual   \n",
       "20    284   8        Github Profile Creation  Profile Building   \n",
       "21    315   0                    AjKyaUkhada            Ritual   \n",
       "22    316   0              Knowledge Sharing            Ritual   \n",
       "23    327  10                 PPT Submission  Machine Learning   \n",
       "24    356   0                    AjKyaUkhada            Ritual   \n",
       "25    397   0              Knowledge Sharing            Ritual   \n",
       "26    407   0                    AjKyaUkhada            Ritual   \n",
       "27    451   0                    AjKyaUkhada            Ritual   \n",
       "28    461   0                    AjKyaUkhada            Ritual   \n",
       "29    477   0                    AjKyaUkhada            Ritual   \n",
       "30    485   0                    AjKyaUkhada            Ritual   \n",
       "31    491   0                    AjKyaUkhada            Ritual   \n",
       "32    501   0                    AjKyaUkhada            Ritual   \n",
       "33    517   0                    AjKyaUkhada            Ritual   \n",
       "34    525   9  Blog on Data Analysis Process    Data Analytics   \n",
       "35    548   0                    AjKyaUkhada            Ritual   \n",
       "36    573   0                    AjKyaUkhada            Ritual   \n",
       "\n",
       "                                          Type    Student  Late Submission  \\\n",
       "0                                  Consistency  Chandrima                0   \n",
       "1   Creativity,Communication,Intent,Confidence  Chandrima                0   \n",
       "2                                  Consistency  Chandrima                0   \n",
       "3                  Creativity,Intent,sincerity  Chandrima                0   \n",
       "4                                  Consistency  Chandrima                0   \n",
       "5                           Creativity, Intent  Chandrima                0   \n",
       "6                                  Consistency  Chandrima                0   \n",
       "7                                  Consistency  Chandrima                0   \n",
       "8                                  Consistency  Chandrima                0   \n",
       "9                                  Consistency  Chandrima                0   \n",
       "10                                 Consistency  Chandrima                0   \n",
       "11                                 Consistency  Chandrima                0   \n",
       "12                       Consistency,Curiosity  Chandrima                0   \n",
       "13                                 Consistency  Chandrima                0   \n",
       "14                                 Consistency  Chandrima                0   \n",
       "15                       Consistency,Curiosity  Chandrima                0   \n",
       "16                                 Consistency  Chandrima                0   \n",
       "17                       Consistency,Curiosity  Chandrima                0   \n",
       "18                       Consistency,Curiosity  Chandrima                0   \n",
       "19                                 Consistency  Chandrima                0   \n",
       "20                         Sincerity,Hard-work  Chandrima                1   \n",
       "21                                 Consistency  Chandrima                0   \n",
       "22                       Consistency,Curiosity  Chandrima                0   \n",
       "23                                   Diligence  Chandrima                1   \n",
       "24                                 Consistency  Chandrima                0   \n",
       "25                       Consistency,Curiosity  Chandrima                0   \n",
       "26                                 Consistency  Chandrima                0   \n",
       "27                                 Consistency  Chandrima                0   \n",
       "28                                 Consistency  Chandrima                0   \n",
       "29                                 Consistency  Chandrima                0   \n",
       "30                                 Consistency  Chandrima                0   \n",
       "31                                 Consistency  Chandrima                0   \n",
       "32                                 Consistency  Chandrima                0   \n",
       "33                                 Consistency  Chandrima                0   \n",
       "34          Analysis, communication, sincerity  Chandrima                1   \n",
       "35                                 Consistency  Chandrima                0   \n",
       "36                                 Consistency  Chandrima                0   \n",
       "\n",
       "    Points  Total  Date_day  Date_month  Date_year  \n",
       "0      2.0      2         1           8       2019  \n",
       "1     16.5     20         1           8       2019  \n",
       "2      2.0      2         2           8       2019  \n",
       "3     15.5     20         3           8       2019  \n",
       "4      2.0      2         3           8       2019  \n",
       "5      6.0     10         4           8       2019  \n",
       "6      2.0      2         4           8       2019  \n",
       "7      2.0      2         5           8       2019  \n",
       "8      2.0      2         6           8       2019  \n",
       "9      2.0      2         7           8       2019  \n",
       "10     2.0      2         7           8       2019  \n",
       "11     2.0      2         8           8       2019  \n",
       "12     5.0      5         9           8       2019  \n",
       "13     2.0      2         9           8       2019  \n",
       "14     2.0      2        10           8       2019  \n",
       "15     5.0      5        10           8       2019  \n",
       "16     2.0      2        11           8       2019  \n",
       "17     5.0      5        11           8       2019  \n",
       "18     5.0      5        12           8       2019  \n",
       "19     2.0      2        12           8       2019  \n",
       "20     7.0     10        13           8       2019  \n",
       "21     2.0      2        13           8       2019  \n",
       "22     5.0      5        13           8       2019  \n",
       "23     5.0      5        14           8       2019  \n",
       "24     2.0      2        14           8       2019  \n",
       "25     2.0      2        20           8       2019  \n",
       "26     2.0      2        18           8       2019  \n",
       "27     2.0      2        15           8       2019  \n",
       "28     2.0      2        19           8       2019  \n",
       "29     2.0      2        21           8       2019  \n",
       "30     2.0      2        20           8       2019  \n",
       "31     2.0      2        17           8       2019  \n",
       "32     2.0      2        22           8       2019  \n",
       "33     2.0      2        16           8       2019  \n",
       "34    23.5     30        23           8       2019  \n",
       "35     2.0      2        23           8       2019  \n",
       "36     2.0      2        24           8       2019  "
      ]
     },
     "execution_count": 450,
     "metadata": {},
     "output_type": "execute_result"
    }
   ],
   "source": [
    "mask=data[\"Student\"]==student_name\n",
    "df=data[mask]\n",
    "df.reset_index(drop=True,inplace=True)\n",
    "type_cons=type_cur=type_dil=type_cre=type_int=type_sin=type_comm=type_conf=type_hard=0\n",
    "for i in range(df.shape[0]):\n",
    "    type_cons+=df[\"Type\"][i].count(\"Consistency\") *df[\"Points\"][i]/df[\"Total\"][i]\n",
    "    type_cur+=df[\"Type\"][i].count(\"Curiosity\") *df[\"Points\"][i]/df[\"Total\"][i]\n",
    "    type_dil+=df[\"Type\"][i].count(\"Diligence\") *df[\"Points\"][i]/df[\"Total\"][i]\n",
    "    type_cre+=df[\"Type\"][i].count(\"Creativity\") *df[\"Points\"][i]/df[\"Total\"][i]\n",
    "    type_int+=df[\"Type\"][i].count(\"Intent\") *df[\"Points\"][i]/df[\"Total\"][i]\n",
    "    type_sin+=df[\"Type\"][i].count(\"sincerity\") *df[\"Points\"][i]/df[\"Total\"][i]\n",
    "    type_comm+=df[\"Type\"][i].count(\"Communication\") *df[\"Points\"][i]/df[\"Total\"][i]\n",
    "    type_conf+=df[\"Type\"][i].count(\"Confidence\") *df[\"Points\"][i]/df[\"Total\"][i]\n",
    "    type_hard+=df[\"Type\"][i].count(\"Hard-work\") *df[\"Points\"][i]/df[\"Total\"][i]\n",
    "    \n",
    "\n",
    "print(type_cons,type_cur,type_dil,type_cre,type_int,type_sin,type_comm,type_conf,type_hard)\n",
    "arr_type=[type_cons,type_cur,type_dil,type_cre,type_int,type_sin,type_comm,type_conf,type_hard]\n",
    "arr_type\n",
    "df\n"
   ]
  },
  {
   "cell_type": "code",
   "execution_count": 451,
   "metadata": {},
   "outputs": [],
   "source": [
    "arr_type_percentage=[]\n",
    "for i in range(len(arr_type_max)):\n",
    "    arr_type_percentage.append(arr_type[i]/arr_type_max[i]*10)"
   ]
  },
  {
   "cell_type": "code",
   "execution_count": 452,
   "metadata": {},
   "outputs": [
    {
     "data": {
      "text/plain": [
       "9"
      ]
     },
     "execution_count": 452,
     "metadata": {},
     "output_type": "execute_result"
    }
   ],
   "source": [
    "len(arr_type_percentage)"
   ]
  },
  {
   "cell_type": "code",
   "execution_count": null,
   "metadata": {},
   "outputs": [],
   "source": []
  },
  {
   "cell_type": "code",
   "execution_count": 453,
   "metadata": {},
   "outputs": [
    {
     "data": {
      "application/vnd.plotly.v1+json": {
       "config": {
        "plotlyServerURL": "https://plot.ly"
       },
       "data": [
        {
         "fill": "toself",
         "hoverlabel": {
          "namelength": 0
         },
         "hovertemplate": "r=%{r}<br>theta=%{theta}",
         "legendgroup": "",
         "line": {
          "color": "#636efa",
          "dash": "solid"
         },
         "mode": "lines",
         "name": "",
         "r": [
          9.393939393939394,
          6.666666666666666,
          10,
          7.333333333333334,
          7.333333333333334,
          7.791666666666667,
          8.25,
          8.25,
          7,
          9.393939393939394
         ],
         "showlegend": false,
         "subplot": "polar",
         "theta": [
          "Consistency",
          "Curiosity",
          "Diligence",
          "Creativity",
          "Intent",
          "sincerity",
          "Communication",
          "Confidence",
          "Hard-work",
          "Consistency"
         ],
         "type": "scatterpolar"
        }
       ],
       "layout": {
        "height": 600,
        "legend": {
         "tracegroupgap": 0
        },
        "margin": {
         "t": 60
        },
        "polar": {
         "angularaxis": {
          "direction": "clockwise",
          "rotation": 90
         },
         "domain": {
          "x": [
           0,
           0.98
          ],
          "y": [
           0,
           1
          ]
         }
        },
        "template": {
         "data": {
          "bar": [
           {
            "error_x": {
             "color": "#2a3f5f"
            },
            "error_y": {
             "color": "#2a3f5f"
            },
            "marker": {
             "line": {
              "color": "#E5ECF6",
              "width": 0.5
             }
            },
            "type": "bar"
           }
          ],
          "barpolar": [
           {
            "marker": {
             "line": {
              "color": "#E5ECF6",
              "width": 0.5
             }
            },
            "type": "barpolar"
           }
          ],
          "carpet": [
           {
            "aaxis": {
             "endlinecolor": "#2a3f5f",
             "gridcolor": "white",
             "linecolor": "white",
             "minorgridcolor": "white",
             "startlinecolor": "#2a3f5f"
            },
            "baxis": {
             "endlinecolor": "#2a3f5f",
             "gridcolor": "white",
             "linecolor": "white",
             "minorgridcolor": "white",
             "startlinecolor": "#2a3f5f"
            },
            "type": "carpet"
           }
          ],
          "choropleth": [
           {
            "colorbar": {
             "outlinewidth": 0,
             "ticks": ""
            },
            "type": "choropleth"
           }
          ],
          "contour": [
           {
            "colorbar": {
             "outlinewidth": 0,
             "ticks": ""
            },
            "colorscale": [
             [
              0,
              "#0d0887"
             ],
             [
              0.1111111111111111,
              "#46039f"
             ],
             [
              0.2222222222222222,
              "#7201a8"
             ],
             [
              0.3333333333333333,
              "#9c179e"
             ],
             [
              0.4444444444444444,
              "#bd3786"
             ],
             [
              0.5555555555555556,
              "#d8576b"
             ],
             [
              0.6666666666666666,
              "#ed7953"
             ],
             [
              0.7777777777777778,
              "#fb9f3a"
             ],
             [
              0.8888888888888888,
              "#fdca26"
             ],
             [
              1,
              "#f0f921"
             ]
            ],
            "type": "contour"
           }
          ],
          "contourcarpet": [
           {
            "colorbar": {
             "outlinewidth": 0,
             "ticks": ""
            },
            "type": "contourcarpet"
           }
          ],
          "heatmap": [
           {
            "colorbar": {
             "outlinewidth": 0,
             "ticks": ""
            },
            "colorscale": [
             [
              0,
              "#0d0887"
             ],
             [
              0.1111111111111111,
              "#46039f"
             ],
             [
              0.2222222222222222,
              "#7201a8"
             ],
             [
              0.3333333333333333,
              "#9c179e"
             ],
             [
              0.4444444444444444,
              "#bd3786"
             ],
             [
              0.5555555555555556,
              "#d8576b"
             ],
             [
              0.6666666666666666,
              "#ed7953"
             ],
             [
              0.7777777777777778,
              "#fb9f3a"
             ],
             [
              0.8888888888888888,
              "#fdca26"
             ],
             [
              1,
              "#f0f921"
             ]
            ],
            "type": "heatmap"
           }
          ],
          "heatmapgl": [
           {
            "colorbar": {
             "outlinewidth": 0,
             "ticks": ""
            },
            "colorscale": [
             [
              0,
              "#0d0887"
             ],
             [
              0.1111111111111111,
              "#46039f"
             ],
             [
              0.2222222222222222,
              "#7201a8"
             ],
             [
              0.3333333333333333,
              "#9c179e"
             ],
             [
              0.4444444444444444,
              "#bd3786"
             ],
             [
              0.5555555555555556,
              "#d8576b"
             ],
             [
              0.6666666666666666,
              "#ed7953"
             ],
             [
              0.7777777777777778,
              "#fb9f3a"
             ],
             [
              0.8888888888888888,
              "#fdca26"
             ],
             [
              1,
              "#f0f921"
             ]
            ],
            "type": "heatmapgl"
           }
          ],
          "histogram": [
           {
            "marker": {
             "colorbar": {
              "outlinewidth": 0,
              "ticks": ""
             }
            },
            "type": "histogram"
           }
          ],
          "histogram2d": [
           {
            "colorbar": {
             "outlinewidth": 0,
             "ticks": ""
            },
            "colorscale": [
             [
              0,
              "#0d0887"
             ],
             [
              0.1111111111111111,
              "#46039f"
             ],
             [
              0.2222222222222222,
              "#7201a8"
             ],
             [
              0.3333333333333333,
              "#9c179e"
             ],
             [
              0.4444444444444444,
              "#bd3786"
             ],
             [
              0.5555555555555556,
              "#d8576b"
             ],
             [
              0.6666666666666666,
              "#ed7953"
             ],
             [
              0.7777777777777778,
              "#fb9f3a"
             ],
             [
              0.8888888888888888,
              "#fdca26"
             ],
             [
              1,
              "#f0f921"
             ]
            ],
            "type": "histogram2d"
           }
          ],
          "histogram2dcontour": [
           {
            "colorbar": {
             "outlinewidth": 0,
             "ticks": ""
            },
            "colorscale": [
             [
              0,
              "#0d0887"
             ],
             [
              0.1111111111111111,
              "#46039f"
             ],
             [
              0.2222222222222222,
              "#7201a8"
             ],
             [
              0.3333333333333333,
              "#9c179e"
             ],
             [
              0.4444444444444444,
              "#bd3786"
             ],
             [
              0.5555555555555556,
              "#d8576b"
             ],
             [
              0.6666666666666666,
              "#ed7953"
             ],
             [
              0.7777777777777778,
              "#fb9f3a"
             ],
             [
              0.8888888888888888,
              "#fdca26"
             ],
             [
              1,
              "#f0f921"
             ]
            ],
            "type": "histogram2dcontour"
           }
          ],
          "mesh3d": [
           {
            "colorbar": {
             "outlinewidth": 0,
             "ticks": ""
            },
            "type": "mesh3d"
           }
          ],
          "parcoords": [
           {
            "line": {
             "colorbar": {
              "outlinewidth": 0,
              "ticks": ""
             }
            },
            "type": "parcoords"
           }
          ],
          "scatter": [
           {
            "marker": {
             "colorbar": {
              "outlinewidth": 0,
              "ticks": ""
             }
            },
            "type": "scatter"
           }
          ],
          "scatter3d": [
           {
            "line": {
             "colorbar": {
              "outlinewidth": 0,
              "ticks": ""
             }
            },
            "marker": {
             "colorbar": {
              "outlinewidth": 0,
              "ticks": ""
             }
            },
            "type": "scatter3d"
           }
          ],
          "scattercarpet": [
           {
            "marker": {
             "colorbar": {
              "outlinewidth": 0,
              "ticks": ""
             }
            },
            "type": "scattercarpet"
           }
          ],
          "scattergeo": [
           {
            "marker": {
             "colorbar": {
              "outlinewidth": 0,
              "ticks": ""
             }
            },
            "type": "scattergeo"
           }
          ],
          "scattergl": [
           {
            "marker": {
             "colorbar": {
              "outlinewidth": 0,
              "ticks": ""
             }
            },
            "type": "scattergl"
           }
          ],
          "scattermapbox": [
           {
            "marker": {
             "colorbar": {
              "outlinewidth": 0,
              "ticks": ""
             }
            },
            "type": "scattermapbox"
           }
          ],
          "scatterpolar": [
           {
            "marker": {
             "colorbar": {
              "outlinewidth": 0,
              "ticks": ""
             }
            },
            "type": "scatterpolar"
           }
          ],
          "scatterpolargl": [
           {
            "marker": {
             "colorbar": {
              "outlinewidth": 0,
              "ticks": ""
             }
            },
            "type": "scatterpolargl"
           }
          ],
          "scatterternary": [
           {
            "marker": {
             "colorbar": {
              "outlinewidth": 0,
              "ticks": ""
             }
            },
            "type": "scatterternary"
           }
          ],
          "surface": [
           {
            "colorbar": {
             "outlinewidth": 0,
             "ticks": ""
            },
            "colorscale": [
             [
              0,
              "#0d0887"
             ],
             [
              0.1111111111111111,
              "#46039f"
             ],
             [
              0.2222222222222222,
              "#7201a8"
             ],
             [
              0.3333333333333333,
              "#9c179e"
             ],
             [
              0.4444444444444444,
              "#bd3786"
             ],
             [
              0.5555555555555556,
              "#d8576b"
             ],
             [
              0.6666666666666666,
              "#ed7953"
             ],
             [
              0.7777777777777778,
              "#fb9f3a"
             ],
             [
              0.8888888888888888,
              "#fdca26"
             ],
             [
              1,
              "#f0f921"
             ]
            ],
            "type": "surface"
           }
          ],
          "table": [
           {
            "cells": {
             "fill": {
              "color": "#EBF0F8"
             },
             "line": {
              "color": "white"
             }
            },
            "header": {
             "fill": {
              "color": "#C8D4E3"
             },
             "line": {
              "color": "white"
             }
            },
            "type": "table"
           }
          ]
         },
         "layout": {
          "annotationdefaults": {
           "arrowcolor": "#2a3f5f",
           "arrowhead": 0,
           "arrowwidth": 1
          },
          "colorscale": {
           "diverging": [
            [
             0,
             "#8e0152"
            ],
            [
             0.1,
             "#c51b7d"
            ],
            [
             0.2,
             "#de77ae"
            ],
            [
             0.3,
             "#f1b6da"
            ],
            [
             0.4,
             "#fde0ef"
            ],
            [
             0.5,
             "#f7f7f7"
            ],
            [
             0.6,
             "#e6f5d0"
            ],
            [
             0.7,
             "#b8e186"
            ],
            [
             0.8,
             "#7fbc41"
            ],
            [
             0.9,
             "#4d9221"
            ],
            [
             1,
             "#276419"
            ]
           ],
           "sequential": [
            [
             0,
             "#0d0887"
            ],
            [
             0.1111111111111111,
             "#46039f"
            ],
            [
             0.2222222222222222,
             "#7201a8"
            ],
            [
             0.3333333333333333,
             "#9c179e"
            ],
            [
             0.4444444444444444,
             "#bd3786"
            ],
            [
             0.5555555555555556,
             "#d8576b"
            ],
            [
             0.6666666666666666,
             "#ed7953"
            ],
            [
             0.7777777777777778,
             "#fb9f3a"
            ],
            [
             0.8888888888888888,
             "#fdca26"
            ],
            [
             1,
             "#f0f921"
            ]
           ],
           "sequentialminus": [
            [
             0,
             "#0d0887"
            ],
            [
             0.1111111111111111,
             "#46039f"
            ],
            [
             0.2222222222222222,
             "#7201a8"
            ],
            [
             0.3333333333333333,
             "#9c179e"
            ],
            [
             0.4444444444444444,
             "#bd3786"
            ],
            [
             0.5555555555555556,
             "#d8576b"
            ],
            [
             0.6666666666666666,
             "#ed7953"
            ],
            [
             0.7777777777777778,
             "#fb9f3a"
            ],
            [
             0.8888888888888888,
             "#fdca26"
            ],
            [
             1,
             "#f0f921"
            ]
           ]
          },
          "colorway": [
           "#636efa",
           "#EF553B",
           "#00cc96",
           "#ab63fa",
           "#FFA15A",
           "#19d3f3",
           "#FF6692",
           "#B6E880",
           "#FF97FF",
           "#FECB52"
          ],
          "font": {
           "color": "#2a3f5f"
          },
          "geo": {
           "bgcolor": "white",
           "lakecolor": "white",
           "landcolor": "#E5ECF6",
           "showlakes": true,
           "showland": true,
           "subunitcolor": "white"
          },
          "hoverlabel": {
           "align": "left"
          },
          "hovermode": "closest",
          "mapbox": {
           "style": "light"
          },
          "paper_bgcolor": "white",
          "plot_bgcolor": "#E5ECF6",
          "polar": {
           "angularaxis": {
            "gridcolor": "white",
            "linecolor": "white",
            "ticks": ""
           },
           "bgcolor": "#E5ECF6",
           "radialaxis": {
            "gridcolor": "white",
            "linecolor": "white",
            "ticks": ""
           }
          },
          "scene": {
           "xaxis": {
            "backgroundcolor": "#E5ECF6",
            "gridcolor": "white",
            "gridwidth": 2,
            "linecolor": "white",
            "showbackground": true,
            "ticks": "",
            "zerolinecolor": "white"
           },
           "yaxis": {
            "backgroundcolor": "#E5ECF6",
            "gridcolor": "white",
            "gridwidth": 2,
            "linecolor": "white",
            "showbackground": true,
            "ticks": "",
            "zerolinecolor": "white"
           },
           "zaxis": {
            "backgroundcolor": "#E5ECF6",
            "gridcolor": "white",
            "gridwidth": 2,
            "linecolor": "white",
            "showbackground": true,
            "ticks": "",
            "zerolinecolor": "white"
           }
          },
          "shapedefaults": {
           "line": {
            "color": "#2a3f5f"
           }
          },
          "ternary": {
           "aaxis": {
            "gridcolor": "white",
            "linecolor": "white",
            "ticks": ""
           },
           "baxis": {
            "gridcolor": "white",
            "linecolor": "white",
            "ticks": ""
           },
           "bgcolor": "#E5ECF6",
           "caxis": {
            "gridcolor": "white",
            "linecolor": "white",
            "ticks": ""
           }
          },
          "title": {
           "x": 0.05
          },
          "xaxis": {
           "automargin": true,
           "gridcolor": "white",
           "linecolor": "white",
           "ticks": "",
           "zerolinecolor": "white",
           "zerolinewidth": 2
          },
          "yaxis": {
           "automargin": true,
           "gridcolor": "white",
           "linecolor": "white",
           "ticks": "",
           "zerolinecolor": "white",
           "zerolinewidth": 2
          }
         }
        }
       }
      },
      "text/html": [
       "<div>\n",
       "        \n",
       "        \n",
       "            <div id=\"25a0b145-e244-48e3-8e82-98f24c1e1d07\" class=\"plotly-graph-div\" style=\"height:600px; width:100%;\"></div>\n",
       "            <script type=\"text/javascript\">\n",
       "                require([\"plotly\"], function(Plotly) {\n",
       "                    window.PLOTLYENV=window.PLOTLYENV || {};\n",
       "                    \n",
       "                if (document.getElementById(\"25a0b145-e244-48e3-8e82-98f24c1e1d07\")) {\n",
       "                    Plotly.newPlot(\n",
       "                        '25a0b145-e244-48e3-8e82-98f24c1e1d07',\n",
       "                        [{\"fill\": \"toself\", \"hoverlabel\": {\"namelength\": 0}, \"hovertemplate\": \"r=%{r}<br>theta=%{theta}\", \"legendgroup\": \"\", \"line\": {\"color\": \"#636efa\", \"dash\": \"solid\"}, \"mode\": \"lines\", \"name\": \"\", \"r\": [9.393939393939394, 6.666666666666666, 10.0, 7.333333333333334, 7.333333333333334, 7.791666666666667, 8.25, 8.25, 7.0, 9.393939393939394], \"showlegend\": false, \"subplot\": \"polar\", \"theta\": [\"Consistency\", \"Curiosity\", \"Diligence\", \"Creativity\", \"Intent\", \"sincerity\", \"Communication\", \"Confidence\", \"Hard-work\", \"Consistency\"], \"type\": \"scatterpolar\"}],\n",
       "                        {\"height\": 600, \"legend\": {\"tracegroupgap\": 0}, \"margin\": {\"t\": 60}, \"polar\": {\"angularaxis\": {\"direction\": \"clockwise\", \"rotation\": 90}, \"domain\": {\"x\": [0.0, 0.98], \"y\": [0.0, 1.0]}}, \"template\": {\"data\": {\"bar\": [{\"error_x\": {\"color\": \"#2a3f5f\"}, \"error_y\": {\"color\": \"#2a3f5f\"}, \"marker\": {\"line\": {\"color\": \"#E5ECF6\", \"width\": 0.5}}, \"type\": \"bar\"}], \"barpolar\": [{\"marker\": {\"line\": {\"color\": \"#E5ECF6\", \"width\": 0.5}}, \"type\": \"barpolar\"}], \"carpet\": [{\"aaxis\": {\"endlinecolor\": \"#2a3f5f\", \"gridcolor\": \"white\", \"linecolor\": \"white\", \"minorgridcolor\": \"white\", \"startlinecolor\": \"#2a3f5f\"}, \"baxis\": {\"endlinecolor\": \"#2a3f5f\", \"gridcolor\": \"white\", \"linecolor\": \"white\", \"minorgridcolor\": \"white\", \"startlinecolor\": \"#2a3f5f\"}, \"type\": \"carpet\"}], \"choropleth\": [{\"colorbar\": {\"outlinewidth\": 0, \"ticks\": \"\"}, \"type\": \"choropleth\"}], \"contour\": [{\"colorbar\": {\"outlinewidth\": 0, \"ticks\": \"\"}, \"colorscale\": [[0.0, \"#0d0887\"], [0.1111111111111111, \"#46039f\"], [0.2222222222222222, \"#7201a8\"], [0.3333333333333333, \"#9c179e\"], [0.4444444444444444, \"#bd3786\"], [0.5555555555555556, \"#d8576b\"], [0.6666666666666666, \"#ed7953\"], [0.7777777777777778, \"#fb9f3a\"], [0.8888888888888888, \"#fdca26\"], [1.0, \"#f0f921\"]], \"type\": \"contour\"}], \"contourcarpet\": [{\"colorbar\": {\"outlinewidth\": 0, \"ticks\": \"\"}, \"type\": \"contourcarpet\"}], \"heatmap\": [{\"colorbar\": {\"outlinewidth\": 0, \"ticks\": \"\"}, \"colorscale\": [[0.0, \"#0d0887\"], [0.1111111111111111, \"#46039f\"], [0.2222222222222222, \"#7201a8\"], [0.3333333333333333, \"#9c179e\"], [0.4444444444444444, \"#bd3786\"], [0.5555555555555556, \"#d8576b\"], [0.6666666666666666, \"#ed7953\"], [0.7777777777777778, \"#fb9f3a\"], [0.8888888888888888, \"#fdca26\"], [1.0, \"#f0f921\"]], \"type\": \"heatmap\"}], \"heatmapgl\": [{\"colorbar\": {\"outlinewidth\": 0, \"ticks\": \"\"}, \"colorscale\": [[0.0, \"#0d0887\"], [0.1111111111111111, \"#46039f\"], [0.2222222222222222, \"#7201a8\"], [0.3333333333333333, \"#9c179e\"], [0.4444444444444444, \"#bd3786\"], [0.5555555555555556, \"#d8576b\"], [0.6666666666666666, \"#ed7953\"], [0.7777777777777778, \"#fb9f3a\"], [0.8888888888888888, \"#fdca26\"], [1.0, \"#f0f921\"]], \"type\": \"heatmapgl\"}], \"histogram\": [{\"marker\": {\"colorbar\": {\"outlinewidth\": 0, \"ticks\": \"\"}}, \"type\": \"histogram\"}], \"histogram2d\": [{\"colorbar\": {\"outlinewidth\": 0, \"ticks\": \"\"}, \"colorscale\": [[0.0, \"#0d0887\"], [0.1111111111111111, \"#46039f\"], [0.2222222222222222, \"#7201a8\"], [0.3333333333333333, \"#9c179e\"], [0.4444444444444444, \"#bd3786\"], [0.5555555555555556, \"#d8576b\"], [0.6666666666666666, \"#ed7953\"], [0.7777777777777778, \"#fb9f3a\"], [0.8888888888888888, \"#fdca26\"], [1.0, \"#f0f921\"]], \"type\": \"histogram2d\"}], \"histogram2dcontour\": [{\"colorbar\": {\"outlinewidth\": 0, \"ticks\": \"\"}, \"colorscale\": [[0.0, \"#0d0887\"], [0.1111111111111111, \"#46039f\"], [0.2222222222222222, \"#7201a8\"], [0.3333333333333333, \"#9c179e\"], [0.4444444444444444, \"#bd3786\"], [0.5555555555555556, \"#d8576b\"], [0.6666666666666666, \"#ed7953\"], [0.7777777777777778, \"#fb9f3a\"], [0.8888888888888888, \"#fdca26\"], [1.0, \"#f0f921\"]], \"type\": \"histogram2dcontour\"}], \"mesh3d\": [{\"colorbar\": {\"outlinewidth\": 0, \"ticks\": \"\"}, \"type\": \"mesh3d\"}], \"parcoords\": [{\"line\": {\"colorbar\": {\"outlinewidth\": 0, \"ticks\": \"\"}}, \"type\": \"parcoords\"}], \"scatter\": [{\"marker\": {\"colorbar\": {\"outlinewidth\": 0, \"ticks\": \"\"}}, \"type\": \"scatter\"}], \"scatter3d\": [{\"line\": {\"colorbar\": {\"outlinewidth\": 0, \"ticks\": \"\"}}, \"marker\": {\"colorbar\": {\"outlinewidth\": 0, \"ticks\": \"\"}}, \"type\": \"scatter3d\"}], \"scattercarpet\": [{\"marker\": {\"colorbar\": {\"outlinewidth\": 0, \"ticks\": \"\"}}, \"type\": \"scattercarpet\"}], \"scattergeo\": [{\"marker\": {\"colorbar\": {\"outlinewidth\": 0, \"ticks\": \"\"}}, \"type\": \"scattergeo\"}], \"scattergl\": [{\"marker\": {\"colorbar\": {\"outlinewidth\": 0, \"ticks\": \"\"}}, \"type\": \"scattergl\"}], \"scattermapbox\": [{\"marker\": {\"colorbar\": {\"outlinewidth\": 0, \"ticks\": \"\"}}, \"type\": \"scattermapbox\"}], \"scatterpolar\": [{\"marker\": {\"colorbar\": {\"outlinewidth\": 0, \"ticks\": \"\"}}, \"type\": \"scatterpolar\"}], \"scatterpolargl\": [{\"marker\": {\"colorbar\": {\"outlinewidth\": 0, \"ticks\": \"\"}}, \"type\": \"scatterpolargl\"}], \"scatterternary\": [{\"marker\": {\"colorbar\": {\"outlinewidth\": 0, \"ticks\": \"\"}}, \"type\": \"scatterternary\"}], \"surface\": [{\"colorbar\": {\"outlinewidth\": 0, \"ticks\": \"\"}, \"colorscale\": [[0.0, \"#0d0887\"], [0.1111111111111111, \"#46039f\"], [0.2222222222222222, \"#7201a8\"], [0.3333333333333333, \"#9c179e\"], [0.4444444444444444, \"#bd3786\"], [0.5555555555555556, \"#d8576b\"], [0.6666666666666666, \"#ed7953\"], [0.7777777777777778, \"#fb9f3a\"], [0.8888888888888888, \"#fdca26\"], [1.0, \"#f0f921\"]], \"type\": \"surface\"}], \"table\": [{\"cells\": {\"fill\": {\"color\": \"#EBF0F8\"}, \"line\": {\"color\": \"white\"}}, \"header\": {\"fill\": {\"color\": \"#C8D4E3\"}, \"line\": {\"color\": \"white\"}}, \"type\": \"table\"}]}, \"layout\": {\"annotationdefaults\": {\"arrowcolor\": \"#2a3f5f\", \"arrowhead\": 0, \"arrowwidth\": 1}, \"colorscale\": {\"diverging\": [[0, \"#8e0152\"], [0.1, \"#c51b7d\"], [0.2, \"#de77ae\"], [0.3, \"#f1b6da\"], [0.4, \"#fde0ef\"], [0.5, \"#f7f7f7\"], [0.6, \"#e6f5d0\"], [0.7, \"#b8e186\"], [0.8, \"#7fbc41\"], [0.9, \"#4d9221\"], [1, \"#276419\"]], \"sequential\": [[0.0, \"#0d0887\"], [0.1111111111111111, \"#46039f\"], [0.2222222222222222, \"#7201a8\"], [0.3333333333333333, \"#9c179e\"], [0.4444444444444444, \"#bd3786\"], [0.5555555555555556, \"#d8576b\"], [0.6666666666666666, \"#ed7953\"], [0.7777777777777778, \"#fb9f3a\"], [0.8888888888888888, \"#fdca26\"], [1.0, \"#f0f921\"]], \"sequentialminus\": [[0.0, \"#0d0887\"], [0.1111111111111111, \"#46039f\"], [0.2222222222222222, \"#7201a8\"], [0.3333333333333333, \"#9c179e\"], [0.4444444444444444, \"#bd3786\"], [0.5555555555555556, \"#d8576b\"], [0.6666666666666666, \"#ed7953\"], [0.7777777777777778, \"#fb9f3a\"], [0.8888888888888888, \"#fdca26\"], [1.0, \"#f0f921\"]]}, \"colorway\": [\"#636efa\", \"#EF553B\", \"#00cc96\", \"#ab63fa\", \"#FFA15A\", \"#19d3f3\", \"#FF6692\", \"#B6E880\", \"#FF97FF\", \"#FECB52\"], \"font\": {\"color\": \"#2a3f5f\"}, \"geo\": {\"bgcolor\": \"white\", \"lakecolor\": \"white\", \"landcolor\": \"#E5ECF6\", \"showlakes\": true, \"showland\": true, \"subunitcolor\": \"white\"}, \"hoverlabel\": {\"align\": \"left\"}, \"hovermode\": \"closest\", \"mapbox\": {\"style\": \"light\"}, \"paper_bgcolor\": \"white\", \"plot_bgcolor\": \"#E5ECF6\", \"polar\": {\"angularaxis\": {\"gridcolor\": \"white\", \"linecolor\": \"white\", \"ticks\": \"\"}, \"bgcolor\": \"#E5ECF6\", \"radialaxis\": {\"gridcolor\": \"white\", \"linecolor\": \"white\", \"ticks\": \"\"}}, \"scene\": {\"xaxis\": {\"backgroundcolor\": \"#E5ECF6\", \"gridcolor\": \"white\", \"gridwidth\": 2, \"linecolor\": \"white\", \"showbackground\": true, \"ticks\": \"\", \"zerolinecolor\": \"white\"}, \"yaxis\": {\"backgroundcolor\": \"#E5ECF6\", \"gridcolor\": \"white\", \"gridwidth\": 2, \"linecolor\": \"white\", \"showbackground\": true, \"ticks\": \"\", \"zerolinecolor\": \"white\"}, \"zaxis\": {\"backgroundcolor\": \"#E5ECF6\", \"gridcolor\": \"white\", \"gridwidth\": 2, \"linecolor\": \"white\", \"showbackground\": true, \"ticks\": \"\", \"zerolinecolor\": \"white\"}}, \"shapedefaults\": {\"line\": {\"color\": \"#2a3f5f\"}}, \"ternary\": {\"aaxis\": {\"gridcolor\": \"white\", \"linecolor\": \"white\", \"ticks\": \"\"}, \"baxis\": {\"gridcolor\": \"white\", \"linecolor\": \"white\", \"ticks\": \"\"}, \"bgcolor\": \"#E5ECF6\", \"caxis\": {\"gridcolor\": \"white\", \"linecolor\": \"white\", \"ticks\": \"\"}}, \"title\": {\"x\": 0.05}, \"xaxis\": {\"automargin\": true, \"gridcolor\": \"white\", \"linecolor\": \"white\", \"ticks\": \"\", \"zerolinecolor\": \"white\", \"zerolinewidth\": 2}, \"yaxis\": {\"automargin\": true, \"gridcolor\": \"white\", \"linecolor\": \"white\", \"ticks\": \"\", \"zerolinecolor\": \"white\", \"zerolinewidth\": 2}}}},\n",
       "                        {\"responsive\": true}\n",
       "                    ).then(function(){\n",
       "                            \n",
       "var gd = document.getElementById('25a0b145-e244-48e3-8e82-98f24c1e1d07');\n",
       "var x = new MutationObserver(function (mutations, observer) {{\n",
       "        var display = window.getComputedStyle(gd).display;\n",
       "        if (!display || display === 'none') {{\n",
       "            console.log([gd, 'removed!']);\n",
       "            Plotly.purge(gd);\n",
       "            observer.disconnect();\n",
       "        }}\n",
       "}});\n",
       "\n",
       "// Listen for the removal of the full notebook cells\n",
       "var notebookContainer = gd.closest('#notebook-container');\n",
       "if (notebookContainer) {{\n",
       "    x.observe(notebookContainer, {childList: true});\n",
       "}}\n",
       "\n",
       "// Listen for the clearing of the current output cell\n",
       "var outputEl = gd.closest('.output');\n",
       "if (outputEl) {{\n",
       "    x.observe(outputEl, {childList: true});\n",
       "}}\n",
       "\n",
       "                        })\n",
       "                };\n",
       "                });\n",
       "            </script>\n",
       "        </div>"
      ]
     },
     "metadata": {},
     "output_type": "display_data"
    },
    {
     "data": {
      "text/html": [
       "<div>\n",
       "<style scoped>\n",
       "    .dataframe tbody tr th:only-of-type {\n",
       "        vertical-align: middle;\n",
       "    }\n",
       "\n",
       "    .dataframe tbody tr th {\n",
       "        vertical-align: top;\n",
       "    }\n",
       "\n",
       "    .dataframe thead th {\n",
       "        text-align: right;\n",
       "    }\n",
       "</style>\n",
       "<table border=\"1\" class=\"dataframe\">\n",
       "  <thead>\n",
       "    <tr style=\"text-align: right;\">\n",
       "      <th></th>\n",
       "      <th>r</th>\n",
       "      <th>theta</th>\n",
       "    </tr>\n",
       "  </thead>\n",
       "  <tbody>\n",
       "    <tr>\n",
       "      <th>0</th>\n",
       "      <td>9.393939</td>\n",
       "      <td>Consistency</td>\n",
       "    </tr>\n",
       "    <tr>\n",
       "      <th>1</th>\n",
       "      <td>6.666667</td>\n",
       "      <td>Curiosity</td>\n",
       "    </tr>\n",
       "    <tr>\n",
       "      <th>2</th>\n",
       "      <td>10.000000</td>\n",
       "      <td>Diligence</td>\n",
       "    </tr>\n",
       "    <tr>\n",
       "      <th>3</th>\n",
       "      <td>7.333333</td>\n",
       "      <td>Creativity</td>\n",
       "    </tr>\n",
       "    <tr>\n",
       "      <th>4</th>\n",
       "      <td>7.333333</td>\n",
       "      <td>Intent</td>\n",
       "    </tr>\n",
       "    <tr>\n",
       "      <th>5</th>\n",
       "      <td>7.791667</td>\n",
       "      <td>sincerity</td>\n",
       "    </tr>\n",
       "    <tr>\n",
       "      <th>6</th>\n",
       "      <td>8.250000</td>\n",
       "      <td>Communication</td>\n",
       "    </tr>\n",
       "    <tr>\n",
       "      <th>7</th>\n",
       "      <td>8.250000</td>\n",
       "      <td>Confidence</td>\n",
       "    </tr>\n",
       "    <tr>\n",
       "      <th>8</th>\n",
       "      <td>7.000000</td>\n",
       "      <td>Hard-work</td>\n",
       "    </tr>\n",
       "  </tbody>\n",
       "</table>\n",
       "</div>"
      ],
      "text/plain": [
       "           r          theta\n",
       "0   9.393939    Consistency\n",
       "1   6.666667      Curiosity\n",
       "2  10.000000      Diligence\n",
       "3   7.333333     Creativity\n",
       "4   7.333333         Intent\n",
       "5   7.791667      sincerity\n",
       "6   8.250000  Communication\n",
       "7   8.250000     Confidence\n",
       "8   7.000000      Hard-work"
      ]
     },
     "execution_count": 453,
     "metadata": {},
     "output_type": "execute_result"
    }
   ],
   "source": [
    "import plotly.express as px\n",
    "\n",
    "\n",
    "df = pd.DataFrame(dict(\n",
    "    r=arr_type_percentage,\n",
    "    theta=arr_type_name))\n",
    "fig = px.line_polar(df, r='r', theta='theta', line_close=True)\n",
    "fig.update_traces(fill='toself')\n",
    "fig.show()\n",
    "df\n"
   ]
  },
  {
   "cell_type": "code",
   "execution_count": null,
   "metadata": {},
   "outputs": [],
   "source": []
  },
  {
   "cell_type": "markdown",
   "metadata": {},
   "source": [
    "### Analysis Starts here"
   ]
  },
  {
   "cell_type": "code",
   "execution_count": null,
   "metadata": {},
   "outputs": [],
   "source": []
  },
  {
   "cell_type": "code",
   "execution_count": 454,
   "metadata": {},
   "outputs": [
    {
     "data": {
      "text/plain": [
       "Student\n",
       "Surabhi         162.0\n",
       "Ujjainee        157.0\n",
       "Dipam           153.0\n",
       "Chandrima       150.5\n",
       "Shakib          148.5\n",
       "Purbita         145.5\n",
       "Vishal          145.5\n",
       "Kunal           143.0\n",
       "Sonali          139.0\n",
       "Sharika         126.5\n",
       "Swaastick       126.0\n",
       "Apurwa          125.0\n",
       "Kaushal         119.5\n",
       "Durga           114.5\n",
       "Siddhishikha    110.5\n",
       "Prasoon         106.0\n",
       "Roumyak         103.5\n",
       "Arya             90.5\n",
       "Shantanu         86.0\n",
       "Bhavna           13.0\n",
       "Anjali            5.0\n",
       "Wrick             2.0\n",
       "Name: Points, dtype: float64"
      ]
     },
     "execution_count": 454,
     "metadata": {},
     "output_type": "execute_result"
    },
    {
     "data": {
      "image/png": "[encoded data removed]",
      "text/plain": [
       "<Figure size 432x288 with 1 Axes>"
      ]
     },
     "metadata": {
      "needs_background": "light"
     },
     "output_type": "display_data"
    }
   ],
   "source": [
    "data_topper = data.groupby(\"Student\")[\"Points\"].sum().sort_values(ascending=False)\n",
    "data_topper.plot(\"bar\")\n",
    "data_topper\n"
   ]
  },
  {
   "cell_type": "code",
   "execution_count": null,
   "metadata": {},
   "outputs": [],
   "source": []
  },
  {
   "cell_type": "code",
   "execution_count": 455,
   "metadata": {},
   "outputs": [],
   "source": [
    "#mask=data[\"Task\"]==\"AjKyaUkhada\"\n",
    "#df=data[mask]\n",
    "mask=data[\"Student\"]==student_name\n",
    "df=data[mask]\n",
    "\n",
    "df.reset_index(drop=True,inplace=True)\n",
    "\n",
    "Points_cum=[]\n",
    "sum_cum=0\n",
    "for i in df[\"Points\"]:\n",
    "    sum_cum=sum_cum + i\n",
    "    Points_cum.append(sum_cum)"
   ]
  },
  {
   "cell_type": "code",
   "execution_count": 456,
   "metadata": {},
   "outputs": [
    {
     "data": {
      "text/plain": [
       "[<matplotlib.lines.Line2D at 0x15683b88dd8>]"
      ]
     },
     "execution_count": 456,
     "metadata": {},
     "output_type": "execute_result"
    },
    {
     "data": {
      "image/png": "[encoded data removed]",
      "text/plain": [
       "<Figure size 432x288 with 1 Axes>"
      ]
     },
     "metadata": {
      "needs_background": "light"
     },
     "output_type": "display_data"
    }
   ],
   "source": [
    "plt.plot(df[\"Date_day\"],Points_cum)"
   ]
  },
  {
   "cell_type": "code",
   "execution_count": null,
   "metadata": {},
   "outputs": [],
   "source": []
  },
  {
   "cell_type": "code",
   "execution_count": null,
   "metadata": {},
   "outputs": [],
   "source": []
  },
  {
   "cell_type": "markdown",
   "metadata": {},
   "source": [
    "## Traditionala mmarksheet"
   ]
  },
  {
   "cell_type": "code",
   "execution_count": 457,
   "metadata": {},
   "outputs": [],
   "source": [
    "mask=data[\"id\"]!=0\n",
    "df=data[mask]\n",
    "mask=df[\"Student\"]==student_name\n",
    "df_student=df[mask]"
   ]
  },
  {
   "cell_type": "code",
   "execution_count": 458,
   "metadata": {},
   "outputs": [],
   "source": [
    "topper_points=df.groupby(\"id\")[\"Points\"].max()\n",
    "total_points=df.groupby(\"id\")[\"Total\"].max()\n",
    "student_points=df_student.groupby(\"id\")[\"Points\"].max()\n",
    "\n",
    "student_percentage=student_points/total_points *100\n",
    "topper_percentage=topper_masks/total_points *100\n"
   ]
  },
  {
   "cell_type": "code",
   "execution_count": 459,
   "metadata": {},
   "outputs": [
    {
     "data": {
      "text/plain": [
       "id\n",
       "5     100.0\n",
       "6      95.0\n",
       "7     100.0\n",
       "8      95.0\n",
       "9      95.0\n",
       "10    100.0\n",
       "dtype: float64"
      ]
     },
     "execution_count": 459,
     "metadata": {},
     "output_type": "execute_result"
    }
   ],
   "source": [
    "topper_percentage"
   ]
  },
  {
   "cell_type": "code",
   "execution_count": 460,
   "metadata": {},
   "outputs": [
    {
     "data": {
      "text/plain": [
       "id\n",
       "5      82.500000\n",
       "6      77.500000\n",
       "7      60.000000\n",
       "8      70.000000\n",
       "9      78.333333\n",
       "10    100.000000\n",
       "dtype: float64"
      ]
     },
     "execution_count": 460,
     "metadata": {},
     "output_type": "execute_result"
    }
   ],
   "source": [
    "student_percentage"
   ]
  },
  {
   "cell_type": "code",
   "execution_count": 461,
   "metadata": {},
   "outputs": [
    {
     "data": {
      "text/html": [
       "<div>\n",
       "<style scoped>\n",
       "    .dataframe tbody tr th:only-of-type {\n",
       "        vertical-align: middle;\n",
       "    }\n",
       "\n",
       "    .dataframe tbody tr th {\n",
       "        vertical-align: top;\n",
       "    }\n",
       "\n",
       "    .dataframe thead th {\n",
       "        text-align: right;\n",
       "    }\n",
       "</style>\n",
       "<table border=\"1\" class=\"dataframe\">\n",
       "  <thead>\n",
       "    <tr style=\"text-align: right;\">\n",
       "      <th></th>\n",
       "      <th>index</th>\n",
       "      <th>id</th>\n",
       "      <th>Task</th>\n",
       "      <th>Module</th>\n",
       "      <th>Type</th>\n",
       "      <th>Student</th>\n",
       "      <th>Late Submission</th>\n",
       "      <th>Points</th>\n",
       "      <th>Total</th>\n",
       "      <th>Date_day</th>\n",
       "      <th>Date_month</th>\n",
       "      <th>Date_year</th>\n",
       "    </tr>\n",
       "  </thead>\n",
       "  <tbody>\n",
       "    <tr>\n",
       "      <th>16</th>\n",
       "      <td>16</td>\n",
       "      <td>5</td>\n",
       "      <td>Video Resume</td>\n",
       "      <td>Profile Building</td>\n",
       "      <td>Creativity,Communication,Intent,Confidence</td>\n",
       "      <td>Chandrima</td>\n",
       "      <td>0</td>\n",
       "      <td>16.5</td>\n",
       "      <td>20</td>\n",
       "      <td>1</td>\n",
       "      <td>8</td>\n",
       "      <td>2019</td>\n",
       "    </tr>\n",
       "    <tr>\n",
       "      <th>51</th>\n",
       "      <td>53</td>\n",
       "      <td>6</td>\n",
       "      <td>Online Resume</td>\n",
       "      <td>Profile Building</td>\n",
       "      <td>Creativity,Intent,sincerity</td>\n",
       "      <td>Chandrima</td>\n",
       "      <td>0</td>\n",
       "      <td>15.5</td>\n",
       "      <td>20</td>\n",
       "      <td>3</td>\n",
       "      <td>8</td>\n",
       "      <td>2019</td>\n",
       "    </tr>\n",
       "    <tr>\n",
       "      <th>82</th>\n",
       "      <td>84</td>\n",
       "      <td>7</td>\n",
       "      <td>Blog and Project Pages</td>\n",
       "      <td>Profile Building</td>\n",
       "      <td>Creativity, Intent</td>\n",
       "      <td>Chandrima</td>\n",
       "      <td>0</td>\n",
       "      <td>6.0</td>\n",
       "      <td>10</td>\n",
       "      <td>4</td>\n",
       "      <td>8</td>\n",
       "      <td>2019</td>\n",
       "    </tr>\n",
       "    <tr>\n",
       "      <th>281</th>\n",
       "      <td>284</td>\n",
       "      <td>8</td>\n",
       "      <td>Github Profile Creation</td>\n",
       "      <td>Profile Building</td>\n",
       "      <td>Sincerity,Hard-work</td>\n",
       "      <td>Chandrima</td>\n",
       "      <td>1</td>\n",
       "      <td>7.0</td>\n",
       "      <td>10</td>\n",
       "      <td>13</td>\n",
       "      <td>8</td>\n",
       "      <td>2019</td>\n",
       "    </tr>\n",
       "    <tr>\n",
       "      <th>324</th>\n",
       "      <td>327</td>\n",
       "      <td>10</td>\n",
       "      <td>PPT Submission</td>\n",
       "      <td>Machine Learning</td>\n",
       "      <td>Diligence</td>\n",
       "      <td>Chandrima</td>\n",
       "      <td>1</td>\n",
       "      <td>5.0</td>\n",
       "      <td>5</td>\n",
       "      <td>14</td>\n",
       "      <td>8</td>\n",
       "      <td>2019</td>\n",
       "    </tr>\n",
       "    <tr>\n",
       "      <th>522</th>\n",
       "      <td>525</td>\n",
       "      <td>9</td>\n",
       "      <td>Blog on Data Analysis Process</td>\n",
       "      <td>Data Analytics</td>\n",
       "      <td>Analysis, communication, sincerity</td>\n",
       "      <td>Chandrima</td>\n",
       "      <td>1</td>\n",
       "      <td>23.5</td>\n",
       "      <td>30</td>\n",
       "      <td>23</td>\n",
       "      <td>8</td>\n",
       "      <td>2019</td>\n",
       "    </tr>\n",
       "  </tbody>\n",
       "</table>\n",
       "</div>"
      ],
      "text/plain": [
       "     index  id                           Task            Module  \\\n",
       "16      16   5                   Video Resume  Profile Building   \n",
       "51      53   6                  Online Resume  Profile Building   \n",
       "82      84   7         Blog and Project Pages  Profile Building   \n",
       "281    284   8        Github Profile Creation  Profile Building   \n",
       "324    327  10                 PPT Submission  Machine Learning   \n",
       "522    525   9  Blog on Data Analysis Process    Data Analytics   \n",
       "\n",
       "                                           Type    Student  Late Submission  \\\n",
       "16   Creativity,Communication,Intent,Confidence  Chandrima                0   \n",
       "51                  Creativity,Intent,sincerity  Chandrima                0   \n",
       "82                           Creativity, Intent  Chandrima                0   \n",
       "281                         Sincerity,Hard-work  Chandrima                1   \n",
       "324                                   Diligence  Chandrima                1   \n",
       "522          Analysis, communication, sincerity  Chandrima                1   \n",
       "\n",
       "     Points  Total  Date_day  Date_month  Date_year  \n",
       "16     16.5     20         1           8       2019  \n",
       "51     15.5     20         3           8       2019  \n",
       "82      6.0     10         4           8       2019  \n",
       "281     7.0     10        13           8       2019  \n",
       "324     5.0      5        14           8       2019  \n",
       "522    23.5     30        23           8       2019  "
      ]
     },
     "execution_count": 461,
     "metadata": {},
     "output_type": "execute_result"
    }
   ],
   "source": [
    "df_student"
   ]
  },
  {
   "cell_type": "code",
   "execution_count": null,
   "metadata": {},
   "outputs": [],
   "source": []
  },
  {
   "cell_type": "code",
   "execution_count": null,
   "metadata": {},
   "outputs": [],
   "source": []
  },
  {
   "cell_type": "code",
   "execution_count": null,
   "metadata": {},
   "outputs": [],
   "source": []
  }
 ],
 "metadata": {
  "kernelspec": {
   "display_name": "Python 3",
   "language": "python",
   "name": "python3"
  },
  "language_info": {
   "codemirror_mode": {
    "name": "ipython",
    "version": 3
   },
   "file_extension": ".py",
   "mimetype": "text/x-python",
   "name": "python",
   "nbconvert_exporter": "python",
   "pygments_lexer": "ipython3",
   "version": "3.7.1"
  }
 },
 "nbformat": 4,
 "nbformat_minor": 2
}
